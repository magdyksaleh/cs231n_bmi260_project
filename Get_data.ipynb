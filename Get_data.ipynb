{
 "cells": [
  {
   "cell_type": "markdown",
   "metadata": {},
   "source": [
    "# Baseline Model for cs231n/bmi260 Project\n",
    "\n",
    "Housekeeping / Preprocessing the data "
   ]
  },
  {
   "cell_type": "code",
   "execution_count": 25,
   "metadata": {
    "collapsed": false
   },
   "outputs": [],
   "source": [
    "import torch\n",
    "import torch.nn as nn\n",
    "import torch.optim as optim\n",
    "from torch.utils.data import DataLoader\n",
    "from torch.utils.data import sampler\n",
    "from skimage import transform\n",
    "import pandas as pd\n",
    "import torchvision.datasets as dset\n",
    "import torchvision.transforms as T\n",
    "import pydicom\n",
    "import os\n",
    "import numpy as np\n",
    "import matplotlib\n",
    "matplotlib.use('agg')\n",
    "import matplotlib.pyplot as plt\n",
    "from tqdm import tnrange, tqdm_notebook"
   ]
  },
  {
   "cell_type": "code",
   "execution_count": 32,
   "metadata": {
    "collapsed": false
   },
   "outputs": [],
   "source": [
    "\n",
    "#Change to where your dataset is stored\n",
    "scans_path = \"../medgift.hevs.ch/ILD_DB_lungMasks\"\n",
    "\n",
    "list_of_scans = os.listdir(scans_path)\n",
    "# for figuring out the controls lets experiment with slice 122 of slice 2\n",
    "scan_num = 1\n",
    "scan_path = os.path.join(scans_path,list_of_scans[scan_num])\n",
    "list_of_slices = os.listdir(scan_path)\n",
    "slice_num = 10\n",
    "slice_path = os.path.join(scan_path,list_of_slices[slice_num])\n",
    "\n",
    "# read in the full path to the file as ds\n",
    "ds=pydicom.read_file(slice_path) # you may have to use pydicom instead of dicom "
   ]
  },
  {
   "cell_type": "code",
   "execution_count": 5,
   "metadata": {
    "collapsed": false
   },
   "outputs": [
    {
     "name": "stdout",
     "output_type": "stream",
     "text": [
      "<class 'numpy.ndarray'> 425.625228882 uint16\n"
     ]
    }
   ],
   "source": [
    "rawimg= ds.pixel_array\n",
    "plt.imshow(rawimg, cmap='viridis')\n",
    "plt.show()\n",
    "print(type(rawimg), np.mean(ds.pixel_array), rawimg.dtype)"
   ]
  },
  {
   "cell_type": "code",
   "execution_count": 6,
   "metadata": {
    "collapsed": true
   },
   "outputs": [],
   "source": [
    "num_scans = len(list_of_scans)\n",
    "max_num_slices = 0\n",
    "\n",
    "for scan_num in range(num_scans):\n",
    "    scan_path = os.path.join(scans_path,list_of_scans[scan_num])\n",
    "    if (not os.path.isdir(scan_path)) or (list_of_scans[scan_num] == \"HRCT_pilot\"):\n",
    "        continue\n",
    "    list_of_slices = os.listdir(scan_path)\n",
    "    num_slices = len(list_of_slices)\n",
    "    num_slices = len(list_of_slices)\n",
    "    if (num_slices > max_num_slices):\n",
    "        max_num_slices = num_slices"
   ]
  },
  {
   "cell_type": "code",
   "execution_count": 23,
   "metadata": {
    "collapsed": false
   },
   "outputs": [
    {
     "name": "stdout",
     "output_type": "stream",
     "text": [
      "['135', '132', '157', '150', '159', '166', '105', '134', '160', '158', '167', '142', '129', '116', '118', '127', '120', '143', '144', '121', '119', '126', '128', '153', '154', '162', '165', '131', '136', '109', '107', '138', '164', '163', '155', '152', '101', '137', '108', '130', '112', '123', '124', '12', '122', '147', '140', '.listing', '149'] 49\n",
      "lung_mask\n",
      ".listing\n",
      "lung_mask\n",
      ".listing\n",
      "lung_mask\n",
      ".listing\n",
      "lung_mask\n",
      ".listing\n",
      "lung_mask\n",
      ".listing\n",
      "lung_mask\n",
      ".listing\n",
      "lung_mask\n",
      ".listing\n",
      "lung_mask\n",
      ".listing\n",
      "lung_mask\n",
      ".listing\n",
      "lung_mask\n",
      ".listing\n",
      "bad 167\n",
      "CT-INSPIRIUM-2951\n",
      ".listing\n",
      "CT-INSPIRIUM-2950\n",
      "lung_mask\n",
      ".listing\n",
      "lung_mask\n",
      ".listing\n",
      "lung_mask\n",
      ".listing\n",
      "lung_mask\n",
      ".listing\n",
      "lung_mask\n",
      ".listing\n",
      "lung_mask\n",
      ".listing\n",
      "lung_mask\n",
      ".listing\n",
      "lung_mask\n",
      ".listing\n",
      "lung_mask\n",
      ".listing\n",
      "lung_mask\n",
      ".listing\n",
      "lung_mask\n",
      ".listing\n",
      "lung_mask\n",
      ".listing\n",
      "CT-INSPIRIUM-6409\n",
      "CT-INSPIRIUM-6410\n",
      ".listing\n",
      "lung_mask\n",
      ".listing\n",
      "lung_mask\n",
      ".listing\n",
      "lung_mask\n",
      ".listing\n",
      "lung_mask\n",
      ".listing\n",
      "lung_mask\n",
      ".listing\n",
      "lung_mask\n",
      ".listing\n",
      "lung_mask\n",
      ".listing\n",
      "lung_mask\n",
      ".listing\n",
      "lung_mask\n",
      ".listing\n",
      "lung_mask\n",
      ".listing\n",
      "lung_mask\n",
      ".listing\n",
      "lung_mask\n",
      ".listing\n",
      "lung_mask\n",
      ".listing\n",
      "lung_mask\n",
      ".listing\n",
      "lung_mask\n",
      ".listing\n",
      "lung_mask\n",
      ".listing\n",
      "lung_mask\n",
      ".listing\n",
      "lung_mask\n",
      ".listing\n",
      "lung_mask\n",
      ".listing\n",
      "lung_mask\n",
      ".listing\n",
      "lung_mask\n",
      ".listing\n",
      "lung_mask\n",
      ".listing\n",
      "bad .listing\n",
      "lung_mask\n",
      ".listing\n",
      "\n",
      "(47, 512, 512, 62)\n"
     ]
    }
   ],
   "source": [
    "#maximum number of slices per scan \n",
    "max_num_slices = 62\n",
    "print(list_of_scans, len(list_of_scans))\n",
    "\n",
    "X = np.zeros((num_scans-2, 512, 512, max_num_slices))\n",
    "counter = 0;\n",
    "#produce X array \n",
    "for scan_num in tnrange(num_scans):\n",
    "    scan_path = os.path.join(scans_path,list_of_scans[scan_num])\n",
    "    if (not os.path.isdir(scan_path)) or (list_of_scans[scan_num] == \"HRCT_pilot\"):\n",
    "        #print('bad', list_of_scans[scan_num])\n",
    "        continue\n",
    "    list_of_slices = os.listdir(scan_path)\n",
    "    num_slices = len(list_of_slices)\n",
    "    scan_idx = int(list_of_scans[scan_num])\n",
    "    \n",
    "    for slice_num in range(num_slices):\n",
    "        if (list_of_slices[slice_num][-4:] != \".dcm\"):\n",
    "            #print(list_of_slices[slice_num])\n",
    "            continue\n",
    "            \n",
    "        slice_path = os.path.join(scan_path,list_of_slices[slice_num])\n",
    "        ds=pydicom.read_file(slice_path)\n",
    "        #print(slice_path, ds.RescaleSlope, ds.RescaleIntercept)\n",
    "        hu_img = ds.pixel_array*ds.RescaleSlope + ds.RescaleIntercept\n",
    "        if(hu_img.shape != (512,512)):\n",
    "            hu_img = transform.resize(hu_img, (512,512), mode='constant')\n",
    "            \n",
    "        slice_idx_num = int(ds.InstanceNumber)\n",
    "        X[counter, :, :, slice_idx_num] = hu_img\n",
    "    counter += 1\n",
    "    \n",
    "print(X.shape)\n",
    "np.save(\"X\", X)"
   ]
  },
  {
   "cell_type": "code",
   "execution_count": 15,
   "metadata": {
    "collapsed": false
   },
   "outputs": [
    {
     "name": "stdout",
     "output_type": "stream",
     "text": [
      "\n"
     ]
    }
   ],
   "source": [
    "df=np.asarray(pd.read_csv('labels.csv', sep=',',header=None).values)\n",
    "y = np.zeros((X.shape[0], 1))\n",
    "\n",
    "counter = 0\n",
    "for scan_num in tnrange(num_scans):\n",
    "    \n",
    "    #get rid of other entries in dir \n",
    "    scan_path = os.path.join(scans_path,list_of_scans[scan_num])\n",
    "    if (not os.path.isdir(scan_path)) or (list_of_scans[scan_num] == \"HRCT_pilot\"):\n",
    "        continue\n",
    "    \n",
    "    idx = np.where(df == int(list_of_scans[scan_num]))[0][0]\n",
    "    y[counter] = df[idx, 1]\n",
    "    counter+=1\n",
    "np.save(\"y\", y)"
   ]
  },
  {
   "cell_type": "code",
   "execution_count": 18,
   "metadata": {
    "collapsed": false
   },
   "outputs": [
    {
     "name": "stdout",
     "output_type": "stream",
     "text": [
      "(47, 512, 512, 62) (47, 1)\n"
     ]
    }
   ],
   "source": [
    "print(X.shape, y.shape)"
   ]
  },
  {
   "cell_type": "code",
   "execution_count": null,
   "metadata": {
    "collapsed": true
   },
   "outputs": [],
   "source": []
  }
 ],
 "metadata": {
  "kernelspec": {
   "display_name": "Python 3",
   "language": "python",
   "name": "python3"
  },
  "language_info": {
   "codemirror_mode": {
    "name": "ipython",
    "version": 3
   },
   "file_extension": ".py",
   "mimetype": "text/x-python",
   "name": "python",
   "nbconvert_exporter": "python",
   "pygments_lexer": "ipython3",
   "version": "3.6.1"
  }
 },
 "nbformat": 4,
 "nbformat_minor": 2
}