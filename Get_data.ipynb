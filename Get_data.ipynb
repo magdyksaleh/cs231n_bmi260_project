{
 "cells": [
  {
   "cell_type": "markdown",
   "metadata": {},
   "source": [
    "# Baseline Model for cs231n/bmi260 Project\n",
    "\n",
    "Housekeeping / Preprocessing the data "
   ]
  },
  {
   "cell_type": "code",
   "execution_count": 1,
   "metadata": {
    "collapsed": true
   },
   "outputs": [],
   "source": [
    "import torch\n",
    "import torch.nn as nn\n",
    "import torch.optim as optim\n",
    "from torch.utils.data import DataLoader\n",
    "from torch.utils.data import sampler\n",
    "from skimage import transform\n",
    "import pandas as pd\n",
    "import torchvision.datasets as dset\n",
    "import torchvision.transforms as T\n",
    "import pydicom\n",
    "import os\n",
    "import numpy as np\n",
    "import matplotlib\n",
    "matplotlib.use('agg')\n",
    "import matplotlib.pyplot as plt\n",
    "from tqdm import tnrange, tqdm_notebook"
   ]
  },
  {
   "cell_type": "code",
   "execution_count": 2,
   "metadata": {},
   "outputs": [
    {
     "name": "stdout",
     "output_type": "stream",
     "text": [
      "['135', '132', '59', '92', '66', '57', '168', '157', '150', '159', '166', '35', '56', '105', '58', '134', '94', '160', '167', '169', '.DS_Store', '174', '173', '9', '142', '7', '89', '116', '45', '127', '80', '74', '120', '143', '17', '144', '172', '8', '181', '175', '21', '121', '119', '126', '128', '153', '154', '36', '165', '131', '65', '136', '62', '109', '54', '107', '138', '53', '163', '155', '152', '137', '108', '130', '90', '46', '112', '83', '77', '123', '48', '70', '84', '124', '184', '177', '183', '23', '3', '12', '179', '76', '82', '47', '78', '147', '182', '.listing', '149', '171', '185']\n",
      "../../Data/Clean_train_test_dataset/Dataset/92/CT-1298-0031.dcm\n"
     ]
    }
   ],
   "source": [
    "\n",
    "#Change to where your dataset is stored\n",
    "scans_path = \"../../Data/Clean_train_test_dataset/Dataset/\"\n",
    "\n",
    "list_of_scans = os.listdir(scans_path)\n",
    "print(list_of_scans)\n",
    "# for figuring out the controls lets experiment with slice 122 of slice 2\n",
    "scan_num = 3\n",
    "scan_path = os.path.join(scans_path,list_of_scans[scan_num])\n",
    "list_of_slices = os.listdir(scan_path)\n",
    "slice_num = 10\n",
    "slice_path = os.path.join(scan_path,list_of_slices[slice_num])\n",
    "print(slice_path)\n",
    "\n",
    "# read in the full path to the file as ds\n",
    "ds=pydicom.read_file(slice_path) # you may have to use pydicom instead of dicom "
   ]
  },
  {
   "cell_type": "code",
   "execution_count": 3,
   "metadata": {},
   "outputs": [
    {
     "name": "stdout",
     "output_type": "stream",
     "text": [
      "<class 'numpy.ndarray'> 530.0752830505371 uint16\n"
     ]
    }
   ],
   "source": [
    "rawimg= ds.pixel_array\n",
    "plt.imshow(rawimg, cmap='viridis')\n",
    "plt.show()\n",
    "print(type(rawimg), np.mean(ds.pixel_array), rawimg.dtype)"
   ]
  },
  {
   "cell_type": "code",
   "execution_count": 4,
   "metadata": {
    "collapsed": true
   },
   "outputs": [],
   "source": [
    "num_scans = len(list_of_scans)\n",
    "max_num_slices = 0\n",
    "\n",
    "for scan_num in range(num_scans):\n",
    "    scan_path = os.path.join(scans_path,list_of_scans[scan_num])\n",
    "    if (not os.path.isdir(scan_path)) or (list_of_scans[scan_num] == \"HRCT_pilot\"):\n",
    "        continue\n",
    "    list_of_slices = os.listdir(scan_path)\n",
    "    num_slices = len(list_of_slices)\n",
    "    num_slices = len(list_of_slices)\n",
    "    if (num_slices > max_num_slices):\n",
    "        max_num_slices = num_slices"
   ]
  },
  {
   "cell_type": "code",
   "execution_count": 5,
   "metadata": {},
   "outputs": [
    {
     "name": "stdout",
     "output_type": "stream",
     "text": [
      "['135', '132', '59', '92', '66', '57', '168', '157', '150', '159', '166', '35', '56', '105', '58', '134', '94', '160', '167', '169', '.DS_Store', '174', '173', '9', '142', '7', '89', '116', '45', '127', '80', '74', '120', '143', '17', '144', '172', '8', '181', '175', '21', '121', '119', '126', '128', '153', '154', '36', '165', '131', '65', '136', '62', '109', '54', '107', '138', '53', '163', '155', '152', '137', '108', '130', '90', '46', '112', '83', '77', '123', '48', '70', '84', '124', '184', '177', '183', '23', '3', '12', '179', '76', '82', '47', '78', '147', '182', '.listing', '149', '171', '185'] 91\n"
     ]
    },
    {
     "data": {
      "application/vnd.jupyter.widget-view+json": {
       "model_id": "5967fd3e2c284985b54799e829f08e1e",
       "version_major": 2,
       "version_minor": 0
      },
      "text/html": [
       "<p>Failed to display Jupyter Widget of type <code>HBox</code>.</p>\n",
       "<p>\n",
       "  If you're reading this message in the Jupyter Notebook or JupyterLab Notebook, it may mean\n",
       "  that the widgets JavaScript is still loading. If this message persists, it\n",
       "  likely means that the widgets JavaScript library is either not installed or\n",
       "  not enabled. See the <a href=\"https://ipywidgets.readthedocs.io/en/stable/user_install.html\">Jupyter\n",
       "  Widgets Documentation</a> for setup instructions.\n",
       "</p>\n",
       "<p>\n",
       "  If you're reading this message in another frontend (for example, a static\n",
       "  rendering on GitHub or <a href=\"https://nbviewer.jupyter.org/\">NBViewer</a>),\n",
       "  it may mean that your frontend doesn't currently support widgets.\n",
       "</p>\n"
      ],
      "text/plain": [
       "HBox(children=(IntProgress(value=0, max=91), HTML(value='')))"
      ]
     },
     "metadata": {},
     "output_type": "display_data"
    },
    {
     "name": "stdout",
     "output_type": "stream",
     "text": [
      "\n",
      "(89, 512, 512, 62)\n"
     ]
    }
   ],
   "source": [
    "#maximum number of slices per scan \n",
    "max_num_slices = 62\n",
    "print(list_of_scans, len(list_of_scans))\n",
    "\n",
    "X = np.zeros((num_scans-2, 512, 512, max_num_slices))\n",
    "counter = 0;\n",
    "#produce X array \n",
    "for scan_num in tnrange(num_scans):\n",
    "    scan_path = os.path.join(scans_path,list_of_scans[scan_num])\n",
    "    if (not os.path.isdir(scan_path)) or (list_of_scans[scan_num] == \"HRCT_pilot\"):\n",
    "        #print('bad', list_of_scans[scan_num])\n",
    "        continue\n",
    "    list_of_slices = os.listdir(scan_path)\n",
    "    num_slices = len(list_of_slices)\n",
    "    scan_idx = int(list_of_scans[scan_num])\n",
    "    \n",
    "    for slice_num in range(num_slices):\n",
    "        if (list_of_slices[slice_num][-4:] != \".dcm\"):\n",
    "            #print(list_of_slices[slice_num])\n",
    "            continue\n",
    "            \n",
    "        slice_path = os.path.join(scan_path,list_of_slices[slice_num])\n",
    "        ds=pydicom.read_file(slice_path)\n",
    "        #print(slice_path, ds.RescaleSlope, ds.RescaleIntercept)\n",
    "        hu_img = ds.pixel_array*ds.RescaleSlope + ds.RescaleIntercept\n",
    "        if(hu_img.shape != (512,512)):\n",
    "            hu_img = transform.resize(hu_img, (512,512), mode='constant')\n",
    "            \n",
    "        slice_idx_num = int(ds.InstanceNumber)\n",
    "        X[counter, :, :, slice_idx_num] = hu_img\n",
    "    counter += 1\n",
    "    \n",
    "print(X.shape)\n",
    "np.save(\"X\", X)"
   ]
  },
  {
   "cell_type": "code",
   "execution_count": 6,
   "metadata": {},
   "outputs": [
    {
     "name": "stdout",
     "output_type": "stream",
     "text": [
      "[[  3   0]\n",
      " [  7   2]\n",
      " [  8   0]\n",
      " [  9   0]\n",
      " [ 12   2]\n",
      " [ 17   1]\n",
      " [ 21   1]\n",
      " [ 23   2]\n",
      " [ 35   2]\n",
      " [ 36   2]\n",
      " [ 45   1]\n",
      " [ 46   1]\n",
      " [ 47   1]\n",
      " [ 48   1]\n",
      " [ 53   0]\n",
      " [ 54   0]\n",
      " [ 56   0]\n",
      " [ 57   0]\n",
      " [ 58   0]\n",
      " [ 59   0]\n",
      " [ 60   2]\n",
      " [ 62   0]\n",
      " [ 65   2]\n",
      " [ 66   2]\n",
      " [ 70   2]\n",
      " [ 74   0]\n",
      " [ 76   0]\n",
      " [ 77   0]\n",
      " [ 78   0]\n",
      " [ 80   0]\n",
      " [ 82   0]\n",
      " [ 83   2]\n",
      " [ 84   0]\n",
      " [ 89   0]\n",
      " [ 90   0]\n",
      " [ 92   0]\n",
      " [ 94   0]\n",
      " [105   2]\n",
      " [107   2]\n",
      " [108   2]\n",
      " [109   2]\n",
      " [112   1]\n",
      " [116   2]\n",
      " [119   2]\n",
      " [120   0]\n",
      " [121   0]\n",
      " [123   2]\n",
      " [124   2]\n",
      " [126   2]\n",
      " [127   2]\n",
      " [128   0]\n",
      " [130   2]\n",
      " [131   2]\n",
      " [132   2]\n",
      " [134   2]\n",
      " [135   2]\n",
      " [136   0]\n",
      " [137   2]\n",
      " [138   2]\n",
      " [142   0]\n",
      " [143   2]\n",
      " [144   0]\n",
      " [147   2]\n",
      " [149   2]\n",
      " [150   2]\n",
      " [152   1]\n",
      " [153   1]\n",
      " [154   1]\n",
      " [155   1]\n",
      " [157   1]\n",
      " [159   2]\n",
      " [160   0]\n",
      " [163   1]\n",
      " [165   0]\n",
      " [166   1]\n",
      " [167   0]\n",
      " [168   0]\n",
      " [169   2]\n",
      " [171   2]\n",
      " [172   2]\n",
      " [173   2]\n",
      " [174   2]\n",
      " [175   0]\n",
      " [177   2]\n",
      " [179   2]\n",
      " [181   0]\n",
      " [182   2]\n",
      " [183   2]\n",
      " [184   0]\n",
      " [185   0]]\n"
     ]
    },
    {
     "data": {
      "application/vnd.jupyter.widget-view+json": {
       "model_id": "6521d904a87d42ff8faa65f55ac3c03c",
       "version_major": 2,
       "version_minor": 0
      },
      "text/html": [
       "<p>Failed to display Jupyter Widget of type <code>HBox</code>.</p>\n",
       "<p>\n",
       "  If you're reading this message in the Jupyter Notebook or JupyterLab Notebook, it may mean\n",
       "  that the widgets JavaScript is still loading. If this message persists, it\n",
       "  likely means that the widgets JavaScript library is either not installed or\n",
       "  not enabled. See the <a href=\"https://ipywidgets.readthedocs.io/en/stable/user_install.html\">Jupyter\n",
       "  Widgets Documentation</a> for setup instructions.\n",
       "</p>\n",
       "<p>\n",
       "  If you're reading this message in another frontend (for example, a static\n",
       "  rendering on GitHub or <a href=\"https://nbviewer.jupyter.org/\">NBViewer</a>),\n",
       "  it may mean that your frontend doesn't currently support widgets.\n",
       "</p>\n"
      ],
      "text/plain": [
       "HBox(children=(IntProgress(value=0, max=91), HTML(value='')))"
      ]
     },
     "metadata": {},
     "output_type": "display_data"
    },
    {
     "name": "stdout",
     "output_type": "stream",
     "text": [
      "\n",
      "[[2.]\n",
      " [2.]\n",
      " [0.]\n",
      " [0.]\n",
      " [2.]\n",
      " [0.]\n",
      " [0.]\n",
      " [1.]\n",
      " [2.]\n",
      " [2.]\n",
      " [1.]\n",
      " [2.]\n",
      " [0.]\n",
      " [2.]\n",
      " [0.]\n",
      " [2.]\n",
      " [0.]\n",
      " [0.]\n",
      " [0.]\n",
      " [2.]\n",
      " [2.]\n",
      " [2.]\n",
      " [0.]\n",
      " [0.]\n",
      " [2.]\n",
      " [0.]\n",
      " [2.]\n",
      " [1.]\n",
      " [2.]\n",
      " [0.]\n",
      " [0.]\n",
      " [0.]\n",
      " [2.]\n",
      " [1.]\n",
      " [0.]\n",
      " [2.]\n",
      " [0.]\n",
      " [0.]\n",
      " [0.]\n",
      " [1.]\n",
      " [0.]\n",
      " [2.]\n",
      " [2.]\n",
      " [0.]\n",
      " [1.]\n",
      " [1.]\n",
      " [2.]\n",
      " [0.]\n",
      " [2.]\n",
      " [2.]\n",
      " [0.]\n",
      " [0.]\n",
      " [2.]\n",
      " [0.]\n",
      " [2.]\n",
      " [2.]\n",
      " [0.]\n",
      " [1.]\n",
      " [1.]\n",
      " [1.]\n",
      " [2.]\n",
      " [2.]\n",
      " [2.]\n",
      " [0.]\n",
      " [1.]\n",
      " [1.]\n",
      " [2.]\n",
      " [0.]\n",
      " [2.]\n",
      " [1.]\n",
      " [2.]\n",
      " [0.]\n",
      " [2.]\n",
      " [0.]\n",
      " [2.]\n",
      " [2.]\n",
      " [2.]\n",
      " [0.]\n",
      " [2.]\n",
      " [2.]\n",
      " [0.]\n",
      " [0.]\n",
      " [1.]\n",
      " [0.]\n",
      " [2.]\n",
      " [2.]\n",
      " [2.]\n",
      " [2.]\n",
      " [0.]]\n"
     ]
    }
   ],
   "source": [
    "df=np.asarray(pd.read_csv('../../Data/Clean_train_test_dataset/Labels.csv', sep=',',header=None).values)\n",
    "print(df)\n",
    "y = np.zeros((X.shape[0], 1))\n",
    "\n",
    "counter = 0\n",
    "for scan_num in tnrange(num_scans):\n",
    "    \n",
    "    #get rid of other entries in dir \n",
    "    scan_path = os.path.join(scans_path,list_of_scans[scan_num])\n",
    "    if (not os.path.isdir(scan_path)) or (list_of_scans[scan_num] == \"HRCT_pilot\"):\n",
    "        continue\n",
    "    \n",
    "    idx = np.where(df == int(list_of_scans[scan_num]))[0][0]\n",
    "    y[counter] = df[idx, 1]\n",
    "    counter+=1\n",
    "np.save(\"y\", y)\n",
    "print(y)"
   ]
  },
  {
   "cell_type": "code",
   "execution_count": 7,
   "metadata": {},
   "outputs": [
    {
     "name": "stdout",
     "output_type": "stream",
     "text": [
      "(89, 512, 512, 62) (89, 1)\n"
     ]
    }
   ],
   "source": [
    "print(X.shape, y.shape)"
   ]
  },
  {
   "cell_type": "code",
   "execution_count": 15,
   "metadata": {},
   "outputs": [
    {
     "data": {
      "application/vnd.jupyter.widget-view+json": {
       "model_id": "2c542f7ee54b46c4b77ccfa894ba9b15",
       "version_major": 2,
       "version_minor": 0
      },
      "text/html": [
       "<p>Failed to display Jupyter Widget of type <code>HBox</code>.</p>\n",
       "<p>\n",
       "  If you're reading this message in the Jupyter Notebook or JupyterLab Notebook, it may mean\n",
       "  that the widgets JavaScript is still loading. If this message persists, it\n",
       "  likely means that the widgets JavaScript library is either not installed or\n",
       "  not enabled. See the <a href=\"https://ipywidgets.readthedocs.io/en/stable/user_install.html\">Jupyter\n",
       "  Widgets Documentation</a> for setup instructions.\n",
       "</p>\n",
       "<p>\n",
       "  If you're reading this message in another frontend (for example, a static\n",
       "  rendering on GitHub or <a href=\"https://nbviewer.jupyter.org/\">NBViewer</a>),\n",
       "  it may mean that your frontend doesn't currently support widgets.\n",
       "</p>\n"
      ],
      "text/plain": [
       "HBox(children=(IntProgress(value=0, max=91), HTML(value='')))"
      ]
     },
     "metadata": {},
     "output_type": "display_data"
    },
    {
     "name": "stdout",
     "output_type": "stream",
     "text": [
      "\n"
     ]
    }
   ],
   "source": [
    "df=np.asarray(pd.read_csv('../../Data/Clean_train_test_dataset/Labels.csv', sep=',',header=None).values)\n",
    "# print(df)\n",
    "y = []\n",
    "cntr_entry = 0\n",
    "for scan_num in tnrange(num_scans):\n",
    "    scan_path = os.path.join(scans_path,list_of_scans[scan_num])\n",
    "    if (not os.path.isdir(scan_path)) or (list_of_scans[scan_num] == \"HRCT_pilot\"):\n",
    "        continue\n",
    "    list_of_slices = os.listdir(scan_path)\n",
    "    num_slices = len(list_of_slices)\n",
    "    scan_idx = int(list_of_scans[scan_num])\n",
    "    cntr_slice = 0\n",
    "    idx = np.where(df == int(list_of_scans[scan_num]))[0][0]\n",
    "    slice_label = df[idx, 1]\n",
    "    for slice_num in range(num_slices):\n",
    "        if (list_of_slices[slice_num][-4:] != \".dcm\"):\n",
    "            continue\n",
    "        \n",
    "        y.append([scan_idx, cntr_slice, slice_label])\n",
    "        cntr_slice += 1\n",
    "        cntr_entry += 1\n",
    "        \n",
    "df_new = pd.DataFrame(y)\n",
    "df_new.to_csv('./slice_labels_clean.csv', header=False, index=False)"
   ]
  },
  {
   "cell_type": "code",
   "execution_count": 16,
   "metadata": {},
   "outputs": [
    {
     "name": "stdout",
     "output_type": "stream",
     "text": [
      "        0   1  2\n",
      "0     135   0  2\n",
      "1     135   1  2\n",
      "2     135   2  2\n",
      "3     135   3  2\n",
      "4     135   4  2\n",
      "5     135   5  2\n",
      "6     135   6  2\n",
      "7     135   7  2\n",
      "8     135   8  2\n",
      "9     135   9  2\n",
      "10    135  10  2\n",
      "11    135  11  2\n",
      "12    135  12  2\n",
      "13    135  13  2\n",
      "14    135  14  2\n",
      "15    135  15  2\n",
      "16    135  16  2\n",
      "17    135  17  2\n",
      "18    135  18  2\n",
      "19    135  19  2\n",
      "20    135  20  2\n",
      "21    135  21  2\n",
      "22    135  22  2\n",
      "23    135  23  2\n",
      "24    135  24  2\n",
      "25    135  25  2\n",
      "26    132   0  2\n",
      "27    132   1  2\n",
      "28    132   2  2\n",
      "29    132   3  2\n",
      "...   ...  .. ..\n",
      "2327  171  15  2\n",
      "2328  171  16  2\n",
      "2329  171  17  2\n",
      "2330  171  18  2\n",
      "2331  171  19  2\n",
      "2332  171  20  2\n",
      "2333  171  21  2\n",
      "2334  171  22  2\n",
      "2335  185   0  0\n",
      "2336  185   1  0\n",
      "2337  185   2  0\n",
      "2338  185   3  0\n",
      "2339  185   4  0\n",
      "2340  185   5  0\n",
      "2341  185   6  0\n",
      "2342  185   7  0\n",
      "2343  185   8  0\n",
      "2344  185   9  0\n",
      "2345  185  10  0\n",
      "2346  185  11  0\n",
      "2347  185  12  0\n",
      "2348  185  13  0\n",
      "2349  185  14  0\n",
      "2350  185  15  0\n",
      "2351  185  16  0\n",
      "2352  185  17  0\n",
      "2353  185  18  0\n",
      "2354  185  19  0\n",
      "2355  185  20  0\n",
      "2356  185  21  0\n",
      "\n",
      "[2357 rows x 3 columns]\n"
     ]
    }
   ],
   "source": [
    "print(df_new)"
   ]
  },
  {
   "cell_type": "code",
   "execution_count": null,
   "metadata": {
    "collapsed": true
   },
   "outputs": [],
   "source": []
  }
 ],
 "metadata": {
  "kernelspec": {
   "display_name": "Python 3",
   "language": "python",
   "name": "python3"
  },
  "language_info": {
   "codemirror_mode": {
    "name": "ipython",
    "version": 3
   },
   "file_extension": ".py",
   "mimetype": "text/x-python",
   "name": "python",
   "nbconvert_exporter": "python",
   "pygments_lexer": "ipython3",
   "version": "3.6.1"
  }
 },
 "nbformat": 4,
 "nbformat_minor": 2
}
