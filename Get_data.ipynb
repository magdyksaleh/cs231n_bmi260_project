{
 "cells": [
  {
   "cell_type": "markdown",
   "metadata": {},
   "source": [
    "# Baseline Model for cs231n/bmi260 Project\n",
    "\n",
    "Housekeeping / Preprocessing the data "
   ]
  },
  {
   "cell_type": "code",
   "execution_count": 1,
   "metadata": {},
   "outputs": [],
   "source": [
    "import torch\n",
    "import torch.nn as nn\n",
    "import torch.optim as optim\n",
    "from torch.utils.data import DataLoader\n",
    "from torch.utils.data import sampler\n",
    "from skimage import transform\n",
    "import pandas as pd\n",
    "import torchvision.datasets as dset\n",
    "import torchvision.transforms as T\n",
    "import pydicom\n",
    "import os\n",
    "import numpy as np\n",
    "import matplotlib\n",
    "matplotlib.use('agg')\n",
    "import matplotlib.pyplot as plt\n",
    "from tqdm import tnrange, tqdm_notebook"
   ]
  },
  {
   "cell_type": "code",
   "execution_count": 2,
   "metadata": {},
   "outputs": [
    {
     "ename": "FileNotFoundError",
     "evalue": "[Errno 2] No such file or directory: '../train_test_dataset/ILD_DB_lungMasks'",
     "output_type": "error",
     "traceback": [
      "\u001b[0;31m---------------------------------------------------------------------------\u001b[0m",
      "\u001b[0;31mFileNotFoundError\u001b[0m                         Traceback (most recent call last)",
      "\u001b[0;32m<ipython-input-2-711a8a96c5bf>\u001b[0m in \u001b[0;36m<module>\u001b[0;34m()\u001b[0m\n\u001b[1;32m      3\u001b[0m \u001b[0mscans_path\u001b[0m \u001b[0;34m=\u001b[0m \u001b[0;34m\"../train_test_dataset/ILD_DB_lungMasks\"\u001b[0m\u001b[0;34m\u001b[0m\u001b[0m\n\u001b[1;32m      4\u001b[0m \u001b[0;34m\u001b[0m\u001b[0m\n\u001b[0;32m----> 5\u001b[0;31m \u001b[0mlist_of_scans\u001b[0m \u001b[0;34m=\u001b[0m \u001b[0mos\u001b[0m\u001b[0;34m.\u001b[0m\u001b[0mlistdir\u001b[0m\u001b[0;34m(\u001b[0m\u001b[0mscans_path\u001b[0m\u001b[0;34m)\u001b[0m\u001b[0;34m\u001b[0m\u001b[0m\n\u001b[0m\u001b[1;32m      6\u001b[0m \u001b[0mprint\u001b[0m\u001b[0;34m(\u001b[0m\u001b[0mlist_of_scans\u001b[0m\u001b[0;34m)\u001b[0m\u001b[0;34m\u001b[0m\u001b[0m\n\u001b[1;32m      7\u001b[0m \u001b[0;31m# for figuring out the controls lets experiment with slice 122 of slice 2\u001b[0m\u001b[0;34m\u001b[0m\u001b[0;34m\u001b[0m\u001b[0m\n",
      "\u001b[0;31mFileNotFoundError\u001b[0m: [Errno 2] No such file or directory: '../train_test_dataset/ILD_DB_lungMasks'"
     ]
    }
   ],
   "source": [
    "\n",
    "#Change to where your dataset is stored\n",
    "scans_path = \"../train_test_dataset/ILD_DB_lungMasks\"\n",
    "\n",
    "list_of_scans = os.listdir(scans_path)\n",
    "print(list_of_scans)\n",
    "# for figuring out the controls lets experiment with slice 122 of slice 2\n",
    "scan_num = 1\n",
    "scan_path = os.path.join(scans_path,list_of_scans[scan_num])\n",
    "list_of_slices = os.listdir(scan_path)\n",
    "slice_num = 10\n",
    "slice_path = os.path.join(scan_path,list_of_slices[slice_num])\n",
    "\n",
    "# read in the full path to the file as ds\n",
    "ds=pydicom.read_file(slice_path) # you may have to use pydicom instead of dicom "
   ]
  },
  {
   "cell_type": "code",
   "execution_count": null,
   "metadata": {},
   "outputs": [],
   "source": [
    "rawimg= ds.pixel_array\n",
    "plt.imshow(rawimg, cmap='viridis')\n",
    "plt.show()\n",
    "print(type(rawimg), np.mean(ds.pixel_array), rawimg.dtype)"
   ]
  },
  {
   "cell_type": "code",
   "execution_count": null,
   "metadata": {},
   "outputs": [],
   "source": [
    "num_scans = len(list_of_scans)\n",
    "max_num_slices = 0\n",
    "\n",
    "for scan_num in range(num_scans):\n",
    "    scan_path = os.path.join(scans_path,list_of_scans[scan_num])\n",
    "    if (not os.path.isdir(scan_path)) or (list_of_scans[scan_num] == \"HRCT_pilot\"):\n",
    "        continue\n",
    "    list_of_slices = os.listdir(scan_path)\n",
    "    num_slices = len(list_of_slices)\n",
    "    num_slices = len(list_of_slices)\n",
    "    if (num_slices > max_num_slices):\n",
    "        max_num_slices = num_slices"
   ]
  },
  {
   "cell_type": "code",
   "execution_count": null,
   "metadata": {},
   "outputs": [],
   "source": [
    "#maximum number of slices per scan \n",
    "max_num_slices = 62\n",
    "print(list_of_scans, len(list_of_scans))\n",
    "\n",
    "X = np.zeros((num_scans-2, 512, 512, max_num_slices))\n",
    "counter = 0;\n",
    "#produce X array \n",
    "for scan_num in tnrange(num_scans):\n",
    "    scan_path = os.path.join(scans_path,list_of_scans[scan_num])\n",
    "    if (not os.path.isdir(scan_path)) or (list_of_scans[scan_num] == \"HRCT_pilot\"):\n",
    "        #print('bad', list_of_scans[scan_num])\n",
    "        continue\n",
    "    list_of_slices = os.listdir(scan_path)\n",
    "    num_slices = len(list_of_slices)\n",
    "    scan_idx = int(list_of_scans[scan_num])\n",
    "    \n",
    "    for slice_num in range(num_slices):\n",
    "        if (list_of_slices[slice_num][-4:] != \".dcm\"):\n",
    "            #print(list_of_slices[slice_num])\n",
    "            continue\n",
    "            \n",
    "        slice_path = os.path.join(scan_path,list_of_slices[slice_num])\n",
    "        ds=pydicom.read_file(slice_path)\n",
    "        #print(slice_path, ds.RescaleSlope, ds.RescaleIntercept)\n",
    "        hu_img = ds.pixel_array*ds.RescaleSlope + ds.RescaleIntercept\n",
    "        if(hu_img.shape != (512,512)):\n",
    "            hu_img = transform.resize(hu_img, (512,512), mode='constant')\n",
    "            \n",
    "        slice_idx_num = int(ds.InstanceNumber)\n",
    "        X[counter, :, :, slice_idx_num] = hu_img\n",
    "    counter += 1\n",
    "    \n",
    "print(X.shape)\n",
    "np.save(\"X\", X)"
   ]
  },
  {
   "cell_type": "code",
   "execution_count": null,
   "metadata": {},
   "outputs": [],
   "source": [
    "df=np.asarray(pd.read_csv('labels.csv', sep=',',header=None).values)\n",
    "y = np.zeros((X.shape[0], 1))\n",
    "\n",
    "counter = 0\n",
    "for scan_num in tnrange(num_scans):\n",
    "    \n",
    "    #get rid of other entries in dir \n",
    "    scan_path = os.path.join(scans_path,list_of_scans[scan_num])\n",
    "    if (not os.path.isdir(scan_path)) or (list_of_scans[scan_num] == \"HRCT_pilot\"):\n",
    "        continue\n",
    "    \n",
    "    idx = np.where(df == int(list_of_scans[scan_num]))[0][0]\n",
    "    y[counter] = df[idx, 1]\n",
    "    counter+=1\n",
    "np.save(\"y\", y)"
   ]
  },
  {
   "cell_type": "code",
   "execution_count": null,
   "metadata": {},
   "outputs": [],
   "source": [
    "print(X.shape, y.shape)"
   ]
  },
  {
   "cell_type": "code",
   "execution_count": null,
   "metadata": {},
   "outputs": [],
   "source": []
  }
 ],
 "metadata": {
  "kernelspec": {
   "display_name": "Python 3",
   "language": "python",
   "name": "python3"
  },
  "language_info": {
   "codemirror_mode": {
    "name": "ipython",
    "version": 3
   },
   "file_extension": ".py",
   "mimetype": "text/x-python",
   "name": "python",
   "nbconvert_exporter": "python",
   "pygments_lexer": "ipython3",
   "version": "3.6.4"
  }
 },
 "nbformat": 4,
 "nbformat_minor": 2
}
