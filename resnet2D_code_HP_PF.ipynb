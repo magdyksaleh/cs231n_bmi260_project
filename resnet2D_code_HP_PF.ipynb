{
 "cells": [
  {
   "cell_type": "code",
   "execution_count": 1,
   "metadata": {},
   "outputs": [],
   "source": [
    "import torch\n",
    "import torch.nn as nn\n",
    "import torch.nn.functional as F\n",
    "import torch.optim as optim\n",
    "from torch.utils.data import DataLoader\n",
    "from torch.utils.data import sampler\n",
    "from tqdm import tnrange, tqdm_notebook, tqdm\n",
    "\n",
    "# import skorch\n",
    "import torchvision.datasets as dset\n",
    "import torchvision.transforms as T\n",
    "import torchvision.models as models\n",
    "\n",
    "from sklearn.model_selection import train_test_split\n",
    "from sklearn.model_selection import cross_val_score\n",
    "from sklearn.model_selection import cross_validate\n",
    "\n",
    "import numpy as np\n",
    "import matplotlib\n",
    "# matplotlib.use('agg')\n",
    "import matplotlib.pyplot as plt\n",
    "from Lung_dataset import ILDDataset"
   ]
  },
  {
   "cell_type": "code",
   "execution_count": 2,
   "metadata": {},
   "outputs": [
    {
     "name": "stdout",
     "output_type": "stream",
     "text": [
      "using device: cuda\n"
     ]
    }
   ],
   "source": [
    "USE_GPU = True\n",
    "\n",
    "dtype = torch.float32 # we will be using float throughout this tutorial\n",
    "\n",
    "if USE_GPU and torch.cuda.is_available():\n",
    "    device = torch.device('cuda')\n",
    "else:\n",
    "    device = torch.device('cpu')\n",
    "\n",
    "# Constant to control how frequently we print train loss\n",
    "print_every = 100\n",
    "\n",
    "print('using device:', device)"
   ]
  },
  {
   "cell_type": "code",
   "execution_count": 8,
   "metadata": {},
   "outputs": [],
   "source": [
    "# NUM_TOTAL = 1982\n",
    "# NUM_TRAIN = 1500\n",
    "\n",
    "NUM_TOTAL = 1039\n",
    "NUM_TRAIN = 800\n",
    "NUM_TEST = 239\n",
    "\n",
    "#add path as absolute path for root dir\n",
    "\n",
    "im_size = 128\n",
    "\n",
    "lung_dataset_train = ILDDataset(csv_file='../HP_PF_dataset/train_labels.csv',\n",
    "                          root_dir='../HP_PF_dataset/Train',\n",
    "                          mask=True, HU=True, train=True, resize=128, length=1039)\n",
    "\n",
    "#add path as absolute path for root dir\n",
    "lung_dataset_test = ILDDataset(csv_file='../HP_PF_dataset/test_labels.csv',\n",
    "                          root_dir='../HP_PF_dataset/Test',\n",
    "                          mask=True, HU=True, resize=128, length=239)\n",
    "\n",
    "loader_train = DataLoader(lung_dataset_train, batch_size=64, \n",
    "                          sampler=sampler.SubsetRandomSampler(range(NUM_TRAIN)))\n",
    "\n",
    "loader_val = DataLoader(lung_dataset_train, batch_size=64, \n",
    "                          sampler=sampler.SubsetRandomSampler(range(NUM_TRAIN, NUM_TOTAL)))\n",
    "\n",
    "loader_test = DataLoader(lung_dataset_test, batch_size=32)\n"
   ]
  },
  {
   "cell_type": "code",
   "execution_count": 9,
   "metadata": {},
   "outputs": [
    {
     "data": {
      "image/png": "[encoded data removed]",
      "text/plain": [
       "<matplotlib.figure.Figure at 0x7f3da000bf60>"
      ]
     },
     "metadata": {},
     "output_type": "display_data"
    },
    {
     "name": "stdout",
     "output_type": "stream",
     "text": [
      "label: 0\n"
     ]
    }
   ],
   "source": [
    "#show datasample\n",
    "sample = lung_dataset_train[12]\n",
    "plt.imshow(sample[0], cmap='gray')\n",
    "plt.show()\n",
    "print(\"label: \" + str(sample[1]))"
   ]
  },
  {
   "cell_type": "code",
   "execution_count": 10,
   "metadata": {},
   "outputs": [],
   "source": [
    "def flatten(x):\n",
    "    N = x.shape[0] # read in N, C, H, W\n",
    "    return x.view(N, -1)  # \"flatten\" the C * H * W values into a single vector per image\n",
    "\n",
    "class Flatten(nn.Module):\n",
    "    def forward(self, x):\n",
    "        return flatten(x)\n"
   ]
  },
  {
   "cell_type": "code",
   "execution_count": 11,
   "metadata": {},
   "outputs": [],
   "source": [
    "def get_model(freeze=False):\n",
    "    \"\"\"\n",
    "    Used to fetch model for classification\n",
    "    \"\"\"\n",
    "\n",
    "    num_classes = 3\n",
    "\n",
    "    model = models.resnet50(pretrained=True)\n",
    "    model.avgpool = nn.AvgPool2d(1, stride=1)\n",
    "    model.conv1 = nn.Conv2d(1, 64, kernel_size=7, stride=2, padding=1, bias=False)\n",
    "    if(freeze==True):\n",
    "        for param in model.parameters():\n",
    "            param.requires_grad = False\n",
    "    model.fc = nn.Linear(32768, num_classes)\n",
    "    \n",
    "    return model\n",
    "    "
   ]
  },
  {
   "cell_type": "code",
   "execution_count": 12,
   "metadata": {},
   "outputs": [],
   "source": [
    "def check_accuracy(loader, model, train=False, val = False):\n",
    "    predictedStore = []\n",
    "    solutionStore = []\n",
    "    if loader.dataset.train and train == True:\n",
    "        print('Checking accuracy on training set')\n",
    "    elif val:\n",
    "        print('Checking accuracy on validation set')\n",
    "    else:\n",
    "        print('Checking accuracy on test set')   \n",
    "    num_correct = 0\n",
    "    num_samples = 0\n",
    "    model.eval()  # set model to evaluation mode\n",
    "    with torch.no_grad():\n",
    "        for t, (x, y) in enumerate(loader):\n",
    "            x = x.to(device=device, dtype=dtype)  # move to device, e.g. GPU\n",
    "            x.unsqueeze_(1)\n",
    "            y = y.to(device=device, dtype=torch.long)\n",
    "            scores = model(x)\n",
    "            _, preds = scores.max(1)\n",
    "            predictedStore.append(preds.view(-1,).cpu().numpy().tolist())\n",
    "            solutionStore.append(y.data.view(-1,).cpu().numpy().tolist())\n",
    "            \n",
    "            num_correct += (preds == y).sum()\n",
    "            num_samples += preds.size(0)\n",
    "        acc = float(num_correct) / num_samples      \n",
    "        print('Got %d / %d correct (%.2f)' % (num_correct, num_samples, 100 * acc))\n",
    "        \n",
    "    return acc,predictedStore,solutionStore\n",
    " "
   ]
  },
  {
   "cell_type": "code",
   "execution_count": 13,
   "metadata": {},
   "outputs": [],
   "source": [
    "def train(model, optimizer, epochs=1, overfit=False):\n",
    "    \"\"\"\n",
    "    Inputs:\n",
    "    - model: A PyTorch Module giving the model to train.\n",
    "    - optimizer: An Optimizer object we will use to train the model\n",
    "    - epochs: (Optional) A Python integer giving the number of epochs to train for\n",
    "    \n",
    "    Returns: Nothing, but prints model accuracies during training.\n",
    "    \"\"\"\n",
    "    model = model.to(device=device)  # move the model parameters to CPU/GPU\n",
    "    best_acc = 0;\n",
    "    for e in range(epochs):\n",
    "        for t, (x, y) in enumerate(loader_train):\n",
    "            model.train()  # put model to training mode\n",
    "            x = x.to(device=device, dtype=dtype)  # move to device, e.g. GPU\n",
    "            y = y.to(device=device, dtype=torch.long)\n",
    "            \n",
    "            \n",
    "            #38,16,46\n",
    "            weights = torch.tensor([33/49, 49/18], device= device, dtype=dtype)\n",
    "            x.unsqueeze_(1)\n",
    "            scores = model(x)\n",
    "            Loss = nn.CrossEntropyLoss(weight = weights)\n",
    "            loss = Loss(scores, y)\n",
    "            \n",
    "            \n",
    "            reg = torch.tensor(0.0001, device= device, dtype=dtype)\n",
    "            l2_reg = torch.tensor(0. , device= device, dtype=dtype)\n",
    "            for param in model.parameters():\n",
    "                l2_reg += torch.norm(param)\n",
    "            loss += reg * l2_reg\n",
    "\n",
    "            # Zero out all of the gradients for the variables which the optimizer\n",
    "            # will update.\n",
    "            optimizer.zero_grad()\n",
    "\n",
    "            # This is the backwards pass: compute the gradient of the loss with\n",
    "            # respect to each  parameter of the model.\n",
    "            loss.backward()\n",
    "\n",
    "            # Actually update the parameters of the model using the gradients\n",
    "            # computed by the backwards pass.\n",
    "            optimizer.step()\n",
    "            \n",
    "        print('Epoch %d, loss = %.4f' % (e, loss.item()))\n",
    "        if(overfit):\n",
    "            _,predictedStoreTrain,solutionStoreTrain = check_accuracy(loader_train, model, train=True)\n",
    "        acc,predictedStoreVal,solutionStoreVal = check_accuracy(loader_val, model, val = True)\n",
    "        if acc > best_acc:\n",
    "            best_acc = acc\n",
    "            best_model = model\n",
    "            predStoreTrain = predictedStoreTrain\n",
    "            solStoreTrain = solutionStoreTrain\n",
    "            predStoreVal = predictedStoreVal\n",
    "            solStoreVal = solutionStoreVal\n",
    "        print()\n",
    "    return best_model,predStoreTrain,solStoreTrain,predStoreVal,solStoreVal"
   ]
  },
  {
   "cell_type": "code",
   "execution_count": 14,
   "metadata": {},
   "outputs": [
    {
     "name": "stdout",
     "output_type": "stream",
     "text": [
      "Epoch 0, loss = 0.4942\n",
      "Checking accuracy on training set\n",
      "Got 657 / 800 correct (82.12)\n",
      "Checking accuracy on validation set\n",
      "Got 138 / 239 correct (57.74)\n",
      "\n",
      "Epoch 1, loss = 0.1587\n",
      "Checking accuracy on training set\n",
      "Got 699 / 800 correct (87.38)\n",
      "Checking accuracy on validation set\n",
      "Got 142 / 239 correct (59.41)\n",
      "\n",
      "Epoch 2, loss = 0.1683\n",
      "Checking accuracy on training set\n",
      "Got 770 / 800 correct (96.25)\n",
      "Checking accuracy on validation set\n",
      "Got 147 / 239 correct (61.51)\n",
      "\n",
      "Epoch 3, loss = 0.1082\n",
      "Checking accuracy on training set\n",
      "Got 776 / 800 correct (97.00)\n",
      "Checking accuracy on validation set\n",
      "Got 160 / 239 correct (66.95)\n",
      "\n",
      "Epoch 4, loss = 0.1189\n",
      "Checking accuracy on training set\n",
      "Got 776 / 800 correct (97.00)\n",
      "Checking accuracy on validation set\n",
      "Got 161 / 239 correct (67.36)\n",
      "\n",
      "Epoch 5, loss = 0.2101\n",
      "Checking accuracy on training set\n",
      "Got 776 / 800 correct (97.00)\n",
      "Checking accuracy on validation set\n",
      "Got 165 / 239 correct (69.04)\n",
      "\n",
      "Epoch 6, loss = 0.1196\n",
      "Checking accuracy on training set\n",
      "Got 776 / 800 correct (97.00)\n",
      "Checking accuracy on validation set\n",
      "Got 161 / 239 correct (67.36)\n",
      "\n",
      "Epoch 7, loss = 0.1063\n",
      "Checking accuracy on training set\n",
      "Got 776 / 800 correct (97.00)\n",
      "Checking accuracy on validation set\n",
      "Got 161 / 239 correct (67.36)\n",
      "\n",
      "Epoch 8, loss = 0.1066\n",
      "Checking accuracy on training set\n",
      "Got 776 / 800 correct (97.00)\n",
      "Checking accuracy on validation set\n",
      "Got 161 / 239 correct (67.36)\n",
      "\n",
      "Epoch 9, loss = 0.2036\n",
      "Checking accuracy on training set\n",
      "Got 776 / 800 correct (97.00)\n",
      "Checking accuracy on validation set\n",
      "Got 163 / 239 correct (68.20)\n",
      "\n",
      "Epoch 10, loss = 0.1459\n",
      "Checking accuracy on training set\n",
      "Got 776 / 800 correct (97.00)\n",
      "Checking accuracy on validation set\n",
      "Got 149 / 239 correct (62.34)\n",
      "\n",
      "Epoch 11, loss = 0.1313\n",
      "Checking accuracy on training set\n",
      "Got 767 / 800 correct (95.88)\n",
      "Checking accuracy on validation set\n",
      "Got 144 / 239 correct (60.25)\n",
      "\n",
      "Epoch 12, loss = 0.1470\n",
      "Checking accuracy on training set\n",
      "Got 746 / 800 correct (93.25)\n",
      "Checking accuracy on validation set\n",
      "Got 149 / 239 correct (62.34)\n",
      "\n",
      "Epoch 13, loss = 0.1934\n",
      "Checking accuracy on training set\n",
      "Got 712 / 800 correct (89.00)\n",
      "Checking accuracy on validation set\n",
      "Got 147 / 239 correct (61.51)\n",
      "\n",
      "Epoch 14, loss = 0.2657\n",
      "Checking accuracy on training set\n",
      "Got 746 / 800 correct (93.25)\n",
      "Checking accuracy on validation set\n",
      "Got 159 / 239 correct (66.53)\n",
      "\n"
     ]
    }
   ],
   "source": [
    "model1 = get_model()\n",
    "optimizer = optim.Adam(model1.parameters(), lr = 0.0001, weight_decay= 1e-5)\n",
    "best_model,predStoreTrain,solStoreTrain,predStoreVal,solStoreVal = train(model1, optimizer, epochs= 15, overfit=True)"
   ]
  },
  {
   "cell_type": "code",
   "execution_count": 15,
   "metadata": {},
   "outputs": [
    {
     "name": "stdout",
     "output_type": "stream",
     "text": [
      "Checking accuracy on test set\n",
      "Got 122 / 239 correct (51.05)\n"
     ]
    }
   ],
   "source": [
    "#Check Test set\n",
    "acc,predStoreTest,solStoreTest = check_accuracy(loader_test, best_model)"
   ]
  },
  {
   "cell_type": "code",
   "execution_count": 16,
   "metadata": {},
   "outputs": [
    {
     "name": "stdout",
     "output_type": "stream",
     "text": [
      "Confusion matrix, without normalization\n",
      "[[644  24]\n",
      " [  0 132]]\n",
      "Confusion matrix, without normalization\n",
      "[[133   5]\n",
      " [ 69  32]]\n",
      "Normalized confusion matrix\n",
      "[[0.96 0.04]\n",
      " [0.68 0.32]]\n"
     ]
    },
    {
     "data": {
      "image/png": "[encoded data removed]",
      "text/plain": [
       "<matplotlib.figure.Figure at 0x7f3d9f5416a0>"
      ]
     },
     "metadata": {},
     "output_type": "display_data"
    },
    {
     "data": {
      "image/png": "[encoded data removed]",
      "text/plain": [
       "<matplotlib.figure.Figure at 0x7f3d9f546710>"
      ]
     },
     "metadata": {},
     "output_type": "display_data"
    },
    {
     "data": {
      "image/png": "[encoded data removed]",
      "text/plain": [
       "<matplotlib.figure.Figure at 0x7f3d9f4ed358>"
      ]
     },
     "metadata": {},
     "output_type": "display_data"
    }
   ],
   "source": [
    "import itertools\n",
    "import matplotlib.pyplot as plt\n",
    "\n",
    "from sklearn import svm, datasets\n",
    "from sklearn.model_selection import train_test_split\n",
    "from sklearn.metrics import confusion_matrix\n",
    "\n",
    "def plot_confusion_matrix(cm, classes,\n",
    "                          normalize=False,\n",
    "                          title='Confusion matrix',\n",
    "                          cmap=plt.cm.Blues):\n",
    "    \"\"\"\n",
    "    This function prints and plots the confusion matrix.\n",
    "    Normalization can be applied by setting `normalize=True`.\n",
    "    \"\"\"\n",
    "    if normalize:\n",
    "        cm = cm.astype('float') / cm.sum(axis=1)[:, np.newaxis]\n",
    "        print(\"Normalized confusion matrix\")\n",
    "    else:\n",
    "        print('Confusion matrix, without normalization')\n",
    "\n",
    "    print(cm)\n",
    "\n",
    "    plt.imshow(cm, interpolation='nearest', cmap=cmap)\n",
    "    plt.title(title)\n",
    "    plt.colorbar()\n",
    "    tick_marks = np.arange(len(classes))\n",
    "    plt.xticks(tick_marks, classes, rotation=45)\n",
    "    plt.yticks(tick_marks, classes)\n",
    "\n",
    "    fmt = '.2f' if normalize else 'd'\n",
    "    thresh = cm.max() / 2.\n",
    "    for i, j in itertools.product(range(cm.shape[0]), range(cm.shape[1])):\n",
    "        plt.text(j, i, format(cm[i, j], fmt),\n",
    "                 horizontalalignment=\"center\",\n",
    "                 color=\"white\" if cm[i, j] > thresh else \"black\")\n",
    "\n",
    "    plt.tight_layout()\n",
    "    plt.ylabel('True label')\n",
    "    plt.xlabel('Predicted label')\n",
    "\n",
    "    \n",
    "    \n",
    "##Actual Plots\n",
    "\n",
    "y_pred_train = np.concatenate([np.array(i) for i in predStoreTrain])\n",
    "y_train = np.concatenate([np.array(i) for i in solStoreTrain])\n",
    "\n",
    "y_pred_val = np.concatenate([np.array(i) for i in predStoreVal]) \n",
    "y_val = np.concatenate([np.array(i) for i in solStoreVal])\n",
    "\n",
    "# y_pred_test = np.concatenate([np.array(i) for i in predStoreTest]) \n",
    "# y_test = np.concatenate([np.array(i) for i in solStoreTest])\n",
    "\n",
    "cnf_matrix1 = confusion_matrix(y_train, y_pred_train)\n",
    "cnf_matrix2 = confusion_matrix( y_val, y_pred_val)\n",
    "# cnf_matrix3 = confusion_matrix(y_test, y_pred_test)\n",
    "\n",
    "\n",
    "\n",
    "class_names = [0,1,2]\n",
    "np.set_printoptions(precision=2)\n",
    "\n",
    "# Plot non-normalized confusion matrix\n",
    "plt.figure()\n",
    "plot_confusion_matrix(cnf_matrix1, classes=class_names,\n",
    "                      title='Normalized confusion matrix - Train')\n",
    "\n",
    "# Plot normalized confusion matrix\n",
    "plt.figure()\n",
    "plot_confusion_matrix(cnf_matrix2, classes=class_names,\n",
    "                      title='Normalized confusion matrix - Val')\n",
    "\n",
    "# Plot normalized confusion matrix\n",
    "plt.figure()\n",
    "plot_confusion_matrix(cnf_matrix2, classes=class_names, normalize=True,\n",
    "                      title='Normalized confusion matrix - Test')\n",
    "\n",
    "plt.show()\n"
   ]
  },
  {
   "cell_type": "markdown",
   "metadata": {
    "collapsed": true
   },
   "source": [
    "#### "
   ]
  }
 ],
 "metadata": {
  "kernelspec": {
   "display_name": "Python 3",
   "language": "python",
   "name": "python3"
  },
  "language_info": {
   "codemirror_mode": {
    "name": "ipython",
    "version": 3
   },
   "file_extension": ".py",
   "mimetype": "text/x-python",
   "name": "python",
   "nbconvert_exporter": "python",
   "pygments_lexer": "ipython3",
   "version": "3.6.4"
  }
 },
 "nbformat": 4,
 "nbformat_minor": 2
}
