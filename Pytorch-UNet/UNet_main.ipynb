{
 "cells": [
  {
   "cell_type": "markdown",
   "metadata": {},
   "source": [
    "# UNet model"
   ]
  },
  {
   "cell_type": "markdown",
   "metadata": {},
   "source": [
    "Running the UNet from here "
   ]
  },
  {
   "cell_type": "code",
   "execution_count": 31,
   "metadata": {},
   "outputs": [],
   "source": [
    "import torch\n",
    "import torch.nn as nn\n",
    "import torch.nn.functional as F\n",
    "import torch.optim as optim\n",
    "from torch.utils.data import DataLoader\n",
    "from torch.utils.data import sampler\n",
    "import skorch\n",
    "import torchvision.datasets as dset\n",
    "import torchvision.models as models\n",
    "import collections\n",
    "import torch.backends.cudnn as cudnn\n",
    "from torch.autograd import Variable\n",
    "import torchvision.transforms as transforms\n",
    "from tqdm import tqdm\n",
    "\n",
    "\n",
    "from optparse import OptionParser\n",
    "from unet import UNet\n",
    "from utils import *\n",
    "from myloss import dice_coeff\n",
    "\n",
    "\n",
    "import numpy as np\n",
    "import matplotlib\n",
    "import matplotlib.pyplot as plt\n",
    "from UNet_Loader import ILDDataset"
   ]
  },
  {
   "cell_type": "code",
   "execution_count": 26,
   "metadata": {},
   "outputs": [],
   "source": [
    "NUM_TOTAL = 885\n",
    "NUM_TRAIN = 700\n",
    "\n",
    "lung_dataset_train = ILDDataset(cystic_path='/Users/magdy/Desktop/Stanford Spring/BMI260/Project/Data/Cystic_masks_new/Train',\n",
    "                          root_dir='/Users/magdy/Desktop/Stanford Spring/BMI260/Project/Data/Cystic Dataset/Train',\n",
    "                          mask=True, HU=True, resize=256)\n",
    "\n",
    "lung_dataset_test = ILDDataset(cystic_path='/Users/magdy/Desktop/Stanford Spring/BMI260/Project/Data/Cystic_masks_new/Test',\n",
    "                          root_dir='/Users/magdy/Desktop/Stanford Spring/BMI260/Project/Data/Cystic Dataset/Test',\n",
    "                          mask=True, HU=True, resize=256)\n",
    "\n",
    "loader_train = DataLoader(lung_dataset_train, batch_size=4, \n",
    "                          sampler=sampler.SubsetRandomSampler(range(NUM_TRAIN)))\n",
    "\n",
    "loader_val = DataLoader(lung_dataset_train, batch_size=4, \n",
    "                          sampler=sampler.SubsetRandomSampler(range(NUM_TRAIN, NUM_TOTAL)))\n",
    "\n",
    "loader_test = DataLoader(lung_dataset_test, batch_size=4)"
   ]
  },
  {
   "cell_type": "code",
   "execution_count": 27,
   "metadata": {},
   "outputs": [
    {
     "name": "stdout",
     "output_type": "stream",
     "text": [
      "using device: cpu\n"
     ]
    }
   ],
   "source": [
    "USE_GPU = True\n",
    "\n",
    "dtype = torch.float32 # we will be using float throughout this tutorial\n",
    "\n",
    "if USE_GPU and torch.cuda.is_available():\n",
    "    device = torch.device('cuda')\n",
    "else:\n",
    "    device = torch.device('cpu')\n",
    "\n",
    "# Constant to control how frequently we print train loss\n",
    "print_every = 100\n",
    "\n",
    "print('using device:', device)"
   ]
  },
  {
   "cell_type": "markdown",
   "metadata": {},
   "source": [
    "# Check Accuracy"
   ]
  },
  {
   "cell_type": "code",
   "execution_count": 28,
   "metadata": {},
   "outputs": [],
   "source": [
    "def eval_net(net, loader, device, gpu=False):\n",
    "    if loader.dataset.train:\n",
    "        print('Checking accuracy on training set')\n",
    "    else:\n",
    "        print('Checking accuracy on test set')   \n",
    "\n",
    "    tot = 0\n",
    "    cntr = 0\n",
    "    with torch.no_grad():\n",
    "        for X, y in loader:\n",
    "            X = X.to(device=device, dtype=torch.float32)  # move to device, e.g. GPU\n",
    "            y = y.to(device=device, dtype=torch.float32)\n",
    "\n",
    "            if gpu:\n",
    "                X = Variable(X, requires_grad=True).cuda()\n",
    "                y = Variable(y, requires_grad=True).cuda()\n",
    "            else:\n",
    "                X = Variable(X, requires_grad=True)\n",
    "                y = Variable(y, requires_grad=True)\n",
    "\n",
    "            X.unsqueeze_(1)\n",
    "            y.unsqueeze_(1)\n",
    "            y_pred = net(X)\n",
    "\n",
    "            y_pred = (F.sigmoid(y_pred) > 0.6).float()\n",
    "            dice = dice_coeff(y_pred, y.float()).data[0]\n",
    "            tot += dice\n",
    "            cntr += 1\n",
    "            if 1:\n",
    "                X = X.data.squeeze(0).cpu().numpy()\n",
    "                X = np.transpose(X, axes=[1, 2, 0])\n",
    "                y = y.data.squeeze(0).cpu().numpy()\n",
    "                y_pred = y_pred.data.squeeze(0).squeeze(0).cpu().numpy()\n",
    "                print(y_pred.shape)\n",
    "\n",
    "                fig = plt.figure()\n",
    "                ax1 = fig.add_subplot(1, 4, 1)\n",
    "                ax1.imshow(X)\n",
    "                ax2 = fig.add_subplot(1, 4, 2)\n",
    "                ax2.imshow(y)\n",
    "                ax3 = fig.add_subplot(1, 4, 3)\n",
    "                ax3.imshow((y_pred > 0.5))\n",
    "\n",
    "                Q = dense_crf(((X * 255).round()).astype(np.uint8), y_pred)\n",
    "                ax4 = fig.add_subplot(1, 4, 4)\n",
    "                print(Q)\n",
    "                ax4.imshow(Q > 0.5)\n",
    "                plt.show()\n",
    "    return tot / cntr"
   ]
  },
  {
   "cell_type": "markdown",
   "metadata": {},
   "source": [
    "# Train"
   ]
  },
  {
   "cell_type": "code",
   "execution_count": 32,
   "metadata": {},
   "outputs": [],
   "source": [
    "#Train function\n",
    "\n",
    "def train_net(net, epochs=5, batch_size=5, lr=0.1, val_percent=0.05, cp=True, gpu=False):\n",
    "    optimizer = optim.SGD(net.parameters(),\n",
    "                          lr=lr, momentum=0.9, weight_decay=0.0005)\n",
    "    criterion = nn.BCELoss()\n",
    "    dir_checkpoint = 'checkpoints/'\n",
    "    \n",
    "    for epoch in range(epochs):\n",
    "        print('Starting epoch {}/{}.'.format(epoch + 1, epochs))\n",
    "\n",
    "        epoch_loss = 0\n",
    "            \n",
    "        for t, (X, y) in enumerate(loader_train):\n",
    "            X = X.to(device=device, dtype=dtype)  # move to device, e.g. GPU\n",
    "            y = y.to(device=device, dtype=dtype)\n",
    "            X.unsqueeze_(1)\n",
    "            y.unsqueeze_(1)\n",
    "\n",
    "            if gpu:\n",
    "                X = Variable(X).cuda()\n",
    "                y = Variable(y).cuda()\n",
    "            else:\n",
    "                X = Variable(X)\n",
    "                y = Variable(y)\n",
    "            \n",
    "            \n",
    "            y_pred = net(X)\n",
    "            print(y_pred.shape)\n",
    "            \n",
    "            fig = plt.figure()\n",
    "            ax1 = fig.add_subplot(1, 2, 1)\n",
    "            ax1.imshow(X.data.numpy()[0,0,:])\n",
    "            ax2 = fig.add_subplot(1, 2, 2)\n",
    "            ax2.imshow(y_pred.data.numpy()[0,0,:])\n",
    "            plt.show()\n",
    "            \n",
    "            probs = F.sigmoid(y_pred)\n",
    "            probs_flat = probs.view(-1)\n",
    "\n",
    "            y_flat = y.view(-1)\n",
    "\n",
    "            loss = criterion(probs_flat, y_flat.float())\n",
    "            epoch_loss += loss.data[0]\n",
    "\n",
    "            if(t%10 == 0):\n",
    "                print('{0:.4f} --- loss: {1:.6f}'.format(t,\n",
    "                                                     loss.data[0]))\n",
    "            optimizer.zero_grad()\n",
    "\n",
    "            loss.backward()\n",
    "\n",
    "            optimizer.step()\n",
    "        print('Epoch finished ! Loss: {}'.format(epoch_loss / t))\n",
    "        \n",
    "        if 1:\n",
    "            val_dice = eval_net(net, loader_val, device, gpu)\n",
    "            print('Validation Dice Coeff: {}'.format(val_dice))\n",
    "\n",
    "        if cp:\n",
    "            torch.save(net.state_dict(),\n",
    "                       dir_checkpoint + 'CP{}.pth'.format(epoch + 1))\n",
    "\n",
    "            print('Checkpoint {} saved !'.format(epoch + 1))\n"
   ]
  },
  {
   "cell_type": "code",
   "execution_count": 33,
   "metadata": {},
   "outputs": [
    {
     "name": "stdout",
     "output_type": "stream",
     "text": [
      "Starting epoch 1/5.\n",
      "torch.Size([4, 1, 256, 256])\n",
      "0.0000 --- loss: 0.688255\n",
      "torch.Size([4, 1, 256, 256])\n",
      "torch.Size([4, 1, 256, 256])\n",
      "torch.Size([4, 1, 256, 256])\n",
      "Saved interrupt\n"
     ]
    }
   ],
   "source": [
    "net = UNet(1, 1)\n",
    "\n",
    "try:\n",
    "    train_net(net) # , options.epochs, options.batchsize, options.lr,gpu=options.gpu)\n",
    "except KeyboardInterrupt:\n",
    "    torch.save(net.state_dict(), 'INTERRUPTED.pth')\n",
    "    print('Saved interrupt')"
   ]
  }
 ],
 "metadata": {
  "kernelspec": {
   "display_name": "Python 3",
   "language": "python",
   "name": "python3"
  },
  "language_info": {
   "codemirror_mode": {
    "name": "ipython",
    "version": 3
   },
   "file_extension": ".py",
   "mimetype": "text/x-python",
   "name": "python",
   "nbconvert_exporter": "python",
   "pygments_lexer": "ipython3",
   "version": "3.6.4"
  }
 },
 "nbformat": 4,
 "nbformat_minor": 2
}
