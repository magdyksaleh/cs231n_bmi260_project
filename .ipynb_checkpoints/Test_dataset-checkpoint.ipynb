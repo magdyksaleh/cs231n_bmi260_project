{
 "cells": [
  {
   "cell_type": "code",
   "execution_count": 2,
   "metadata": {},
   "outputs": [],
   "source": [
    "import torch\n",
    "import torch.nn as nn\n",
    "import torch.optim as optim\n",
    "from torch.utils.data import DataLoader\n",
    "from torch.utils.data import sampler\n",
    "from skimage import transform\n",
    "import pandas as pd\n",
    "import torchvision.datasets as dset\n",
    "import torchvision.transforms as T\n",
    "import pydicom\n",
    "import os\n",
    "import numpy as np\n",
    "import matplotlib.pyplot as plt\n",
    "from tqdm import tnrange, tqdm_notebook"
   ]
  },
  {
   "cell_type": "code",
   "execution_count": 3,
   "metadata": {},
   "outputs": [
    {
     "ename": "ModuleNotFoundError",
     "evalue": "No module named 'UNet_Loader'",
     "output_type": "error",
     "traceback": [
      "\u001b[0;31m---------------------------------------------------------------------------\u001b[0m",
      "\u001b[0;31mModuleNotFoundError\u001b[0m                       Traceback (most recent call last)",
      "\u001b[0;32m<ipython-input-3-e72bce8043c3>\u001b[0m in \u001b[0;36m<module>\u001b[0;34m()\u001b[0m\n\u001b[0;32m----> 1\u001b[0;31m \u001b[0;32mfrom\u001b[0m \u001b[0mUNet_Loader\u001b[0m \u001b[0;32mimport\u001b[0m \u001b[0mILDDataset\u001b[0m\u001b[0;34m\u001b[0m\u001b[0m\n\u001b[0m\u001b[1;32m      2\u001b[0m lung_dataset = ILDDataset(cystic_path='/Users/magdy/Desktop/Stanford Spring/BMI260/Project/Data/cystic_dataset_masks/Train',\n\u001b[1;32m      3\u001b[0m                           \u001b[0mroot_dir\u001b[0m\u001b[0;34m=\u001b[0m\u001b[0;34m'/Users/magdy/Desktop/Stanford Spring/BMI260/Project/Data/Cystic Dataset/Train'\u001b[0m\u001b[0;34m,\u001b[0m\u001b[0;34m\u001b[0m\u001b[0m\n\u001b[1;32m      4\u001b[0m                           mask=True, HU=True, resize=256)\n",
      "\u001b[0;31mModuleNotFoundError\u001b[0m: No module named 'UNet_Loader'"
     ]
    }
   ],
   "source": [
    "from UNet_pytorch/UNet_Loader import ILDDataset\n",
    "lung_dataset = ILDDataset(cystic_path='/Users/magdy/Desktop/Stanford Spring/BMI260/Project/Data/cystic_dataset_masks/Train',\n",
    "                          root_dir='/Users/magdy/Desktop/Stanford Spring/BMI260/Project/Data/Cystic Dataset/Train',\n",
    "                          mask=True, HU=True, resize=256)"
   ]
  },
  {
   "cell_type": "code",
   "execution_count": null,
   "metadata": {},
   "outputs": [],
   "source": [
    "# print(lung_dataset.__len__())\n",
    "sample = lung_dataset[170]\n",
    "print(sample[0].shape)\n",
    "plt.imshow(sample[0], cmap='gray')\n",
    "plt.show()"
   ]
  },
  {
   "cell_type": "code",
   "execution_count": null,
   "metadata": {},
   "outputs": [],
   "source": [
    "print(sample[1].shape)\n",
    "plt.imshow(sample[1], cmap='gray')\n",
    "plt.show()"
   ]
  },
  {
   "cell_type": "code",
   "execution_count": null,
   "metadata": {},
   "outputs": [],
   "source": [
    "#Get number of slices\n",
    "cyst_dir = '/Users/magdy/Desktop/Stanford Spring/BMI260/Project/Data/cystic_dataset_masks/Test'\n",
    "\n",
    "list_of_scans = os.listdir(cyst_dir)\n",
    "print(list_of_scans)\n",
    "num_scans = len(list_of_scans)\n",
    "\n",
    "cntr = 0\n",
    "for scan_num in range(num_scans):\n",
    "    scan_path = os.path.join(cyst_dir, list_of_scans[scan_num])\n",
    "#     print(scan_path)\n",
    "    if (not os.path.isdir(scan_path)) or (list_of_scans[scan_num] == \"HRCT_pilot\"):\n",
    "        continue\n",
    "    list_of_slices = os.listdir(scan_path)\n",
    "#     print(list_of_slices)\n",
    "    num_slices = len(list_of_slices)\n",
    "    for slice_num in range(num_slices):\n",
    "        if (list_of_slices[slice_num][-4:] != \".png\"):\n",
    "            continue\n",
    "        slice_path = os.path.join(scan_path,list_of_slices[slice_num])\n",
    "#         print(slice_path)\n",
    "        cntr += 1\n",
    "        \n",
    "print(cntr)"
   ]
  },
  {
   "cell_type": "code",
   "execution_count": null,
   "metadata": {},
   "outputs": [],
   "source": []
  }
 ],
 "metadata": {
  "kernelspec": {
   "display_name": "Python 3",
   "language": "python",
   "name": "python3"
  },
  "language_info": {
   "codemirror_mode": {
    "name": "ipython",
    "version": 3
   },
   "file_extension": ".py",
   "mimetype": "text/x-python",
   "name": "python",
   "nbconvert_exporter": "python",
   "pygments_lexer": "ipython3",
   "version": "3.6.4"
  }
 },
 "nbformat": 4,
 "nbformat_minor": 2
}
