{
 "cells": [
  {
   "cell_type": "code",
   "execution_count": null,
   "metadata": {},
   "outputs": [],
   "source": [
    "import torch\n",
    "import torch.nn as nn\n",
    "import torch.optim as optim\n",
    "from torch.utils.data import DataLoader\n",
    "from torch.utils.data import sampler\n",
    "from skimage import transform\n",
    "import pandas as pd\n",
    "import torchvision.datasets as dset\n",
    "import torchvision.transforms as T\n",
    "import pydicom\n",
    "import os\n",
    "import numpy as np\n",
    "import matplotlib.pyplot as plt\n",
    "from tqdm import tnrange, tqdm_notebook, tqdm"
   ]
  },
  {
   "cell_type": "code",
   "execution_count": null,
   "metadata": {},
   "outputs": [],
   "source": [
    "from Lung_dataset import ILDDataset\n",
    "\n",
    "NUM_TOTAL = 1039\n",
    "NUM_TRAIN = 800\n",
    "\n",
    "lung_dataset_train = ILDDataset(csv_file='/Users/magdy/Desktop/Stanford Spring/BMI260/Project/Data/Clean_train_test_dataset/Dataset/train_labels.csv',\n",
    "                          root_dir='/Users/magdy/Desktop/Stanford Spring/BMI260/Project/Data/Clean_train_test_dataset/Dataset/train',\n",
    "                          mask=True, HU=True, resize=512)\n",
    "\n",
    "loader_train = DataLoader(lung_dataset_train, batch_size= 32,\n",
    "                          sampler=sampler.SubsetRandomSampler(range(NUM_TRAIN)))"
   ]
  },
  {
   "cell_type": "code",
   "execution_count": null,
   "metadata": {},
   "outputs": [],
   "source": []
  },
  {
   "cell_type": "code",
   "execution_count": null,
   "metadata": {},
   "outputs": [],
   "source": [
    "# print(lung_dataset.__len__())\n",
    "sample = lung_dataset[55]\n",
    "print(sample[0].shape)\n",
    "plt.imshow(sample[0][0], cmap='gray')\n",
    "plt.show()\n",
    "plt.imshow(sample[0][1], cmap='gray')\n",
    "plt.show()\n",
    "plt.imshow(sample[0][2], cmap='gray')\n",
    "plt.show()\n",
    "plt.imshow(sample[0][3], cmap='gray')\n",
    "plt.show()"
   ]
  },
  {
   "cell_type": "code",
   "execution_count": null,
   "metadata": {},
   "outputs": [],
   "source": [
    "#Get number of slices\n",
    "cyst_dir = '../HP_PF_dataset/Train'\n",
    "\n",
    "list_of_scans = os.listdir(cyst_dir)\n",
    "print(list_of_scans)\n",
    "num_scans = len(list_of_scans)\n",
    "\n",
    "cntr = 0\n",
    "for scan_num in range(num_scans):\n",
    "    scan_path = os.path.join(cyst_dir, list_of_scans[scan_num])\n",
    "#     print(scan_path)\n",
    "    if (not os.path.isdir(scan_path)) or (list_of_scans[scan_num] == \"HRCT_pilot\"):\n",
    "        continue\n",
    "    list_of_slices = os.listdir(scan_path)\n",
    "#     print(list_of_slices)\n",
    "    num_slices = len(list_of_slices)\n",
    "    for slice_num in range(num_slices):\n",
    "        if (list_of_slices[slice_num][-4:] != \".dcm\"):\n",
    "            continue\n",
    "        slice_path = os.path.join(scan_path,list_of_slices[slice_num])\n",
    "        print(slice_path)\n",
    "        cntr += 1\n",
    "        \n",
    "print(cntr)"
   ]
  },
  {
   "cell_type": "code",
   "execution_count": null,
   "metadata": {
    "scrolled": true
   },
   "outputs": [],
   "source": [
    "running_sum = np.zeros(NUM_TRAIN)\n",
    "for t, (x, y) in enumerate(loader_train):\n",
    "    print(t)\n",
    "    pass"
   ]
  },
  {
   "cell_type": "code",
   "execution_count": null,
   "metadata": {
    "scrolled": true
   },
   "outputs": [],
   "source": [
    "print(running_sum.shape)\n",
    "mean = np.mean(running_sum)\n",
    "std = np.std(running_sum)\n",
    "print(mean)\n",
    "print(std)"
   ]
  },
  {
   "cell_type": "code",
   "execution_count": null,
   "metadata": {},
   "outputs": [],
   "source": []
  }
 ],
 "metadata": {
  "kernelspec": {
   "display_name": "Python 3",
   "language": "python",
   "name": "python3"
  },
  "language_info": {
   "codemirror_mode": {
    "name": "ipython",
    "version": 3
   },
   "file_extension": ".py",
   "mimetype": "text/x-python",
   "name": "python",
   "nbconvert_exporter": "python",
   "pygments_lexer": "ipython3",
   "version": "3.6.4"
  }
 },
 "nbformat": 4,
 "nbformat_minor": 2
}
