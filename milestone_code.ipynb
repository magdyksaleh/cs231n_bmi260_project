{
 "cells": [
  {
   "cell_type": "code",
   "execution_count": 1,
   "metadata": {},
   "outputs": [],
   "source": [
    "import torch\n",
    "import torch.nn as nn\n",
    "import torch.nn.functional as F\n",
    "import torch.optim as optim\n",
    "from torch.utils.data import DataLoader\n",
    "from torch.utils.data import sampler\n",
    "import skorch\n",
    "import torchvision.datasets as dset\n",
    "import torchvision.transforms as T\n",
    "import torchvision.models as models\n",
    "\n",
    "from sklearn.model_selection import train_test_split\n",
    "from sklearn.model_selection import cross_val_score\n",
    "from sklearn.model_selection import cross_validate\n",
    "\n",
    "import numpy as np\n",
    "import matplotlib\n",
    "# matplotlib.use('agg')\n",
    "import matplotlib.pyplot as plt\n",
    "from Lung_dataset import ILDDataset"
   ]
  },
  {
   "cell_type": "code",
   "execution_count": 2,
   "metadata": {},
   "outputs": [
    {
     "name": "stdout",
     "output_type": "stream",
     "text": [
      "using device: cpu\n"
     ]
    }
   ],
   "source": [
    "USE_GPU = True\n",
    "\n",
    "dtype = torch.float32 # we will be using float throughout this tutorial\n",
    "\n",
    "if USE_GPU and torch.cuda.is_available():\n",
    "    device = torch.device('cuda')\n",
    "else:\n",
    "    device = torch.device('cpu')\n",
    "\n",
    "# Constant to control how frequently we print train loss\n",
    "print_every = 100\n",
    "\n",
    "print('using device:', device)"
   ]
  },
  {
   "cell_type": "code",
   "execution_count": 3,
   "metadata": {},
   "outputs": [],
   "source": [
    "NUM_TOTAL = 1982\n",
    "NUM_TRAIN = 1500\n",
    "#add path as absolute path for root dir\n",
    "lung_dataset_train = ILDDataset(csv_file='/Users/magdy/Desktop/BMI260/Project/Data/Clean_train_test_dataset/Dataset/train_labels.csv', \n",
    "                          root_dir='/Users/magdy/Desktop/BMI260/Project/Data/Clean_train_test_dataset/Dataset/train',mask=True, train=True)#, transform=transform)\n",
    "\n",
    "\n",
    "#add path as absolute path for root dir\n",
    "lung_dataset_test = ILDDataset(csv_file='/Users/magdy/Desktop/BMI260/Project/Data/Clean_train_test_dataset/Dataset/test_labels.csv', \n",
    "                          root_dir='/Users/magdy/Desktop/BMI260/Project/Data/Clean_train_test_dataset/Dataset/test', mask=True, train=False)#, transform=transform)\n",
    "\n",
    "\n",
    "loader_train = DataLoader(lung_dataset_train, batch_size=32, \n",
    "                          sampler=sampler.SubsetRandomSampler(range(NUM_TRAIN)))\n",
    "\n",
    "loader_val = DataLoader(lung_dataset_train, batch_size=32, \n",
    "                          sampler=sampler.SubsetRandomSampler(range(NUM_TRAIN, NUM_TOTAL)))\n",
    "\n",
    "loader_test = DataLoader(lung_dataset_test, batch_size=32)"
   ]
  },
  {
   "cell_type": "code",
   "execution_count": 4,
   "metadata": {},
   "outputs": [
    {
     "data": {
      "image/png": "[encoded data removed]",
      "text/plain": [
       "<matplotlib.figure.Figure at 0x11c31def0>"
      ]
     },
     "metadata": {},
     "output_type": "display_data"
    },
    {
     "name": "stdout",
     "output_type": "stream",
     "text": [
      "label: 2\n"
     ]
    }
   ],
   "source": [
    "#show datasample\n",
    "sample = lung_dataset_train[120]\n",
    "plt.imshow(sample[0], cmap='gray')\n",
    "plt.show()\n",
    "print(\"label: \" + str(sample[1]))"
   ]
  },
  {
   "cell_type": "code",
   "execution_count": 5,
   "metadata": {},
   "outputs": [],
   "source": [
    "def flatten(x):\n",
    "    N = x.shape[0] # read in N, C, H, W\n",
    "    return x.view(N, -1)  # \"flatten\" the C * H * W values into a single vector per image\n",
    "\n",
    "class Flatten(nn.Module):\n",
    "    def forward(self, x):\n",
    "        return flatten(x)\n"
   ]
  },
  {
   "cell_type": "code",
   "execution_count": 12,
   "metadata": {},
   "outputs": [],
   "source": [
    "def get_model(freeze=False):\n",
    "    \"\"\"\n",
    "    Used to fetch model for classification\n",
    "    \"\"\"\n",
    "#     channel_1 = 64\n",
    "#     channel_2 = 64\n",
    "#     channel_3 = 128\n",
    "\n",
    "#     in_channel = 62\n",
    "    num_classes = 3\n",
    "\n",
    "    model = models.resnet50(pretrained=True)\n",
    "    model.avgpool = nn.AvgPool2d(1, stride=1)\n",
    "    model.conv1 = nn.Conv2d(1, 64, kernel_size=7, stride=2, padding=1, bias=False)\n",
    "    if(freeze==True):\n",
    "        for param in model.parameters():\n",
    "            param.requires_grad = False\n",
    "    model.fc = nn.Linear(8192, num_classes)\n",
    "    model.dropout = nn.Dropout2d(p=0.5)\n",
    "\n",
    "    \n",
    "    return model\n",
    "    # from skorch import NeuralNetClassifier\n",
    "\n",
    "    # net = NeuralNetClassifier(\n",
    "    #     module=model,\n",
    "    #     criterion = nn.CrossEntropyLoss,\n",
    "    #     optimizer=optim.Adam,\n",
    "    #     train_split=None,\n",
    "    #     max_epochs=5,\n",
    "    #     lr = learning_rate,\n",
    "    #     warm_start = True,\n",
    "    #     device = device\n",
    "    # )"
   ]
  },
  {
   "cell_type": "code",
   "execution_count": 13,
   "metadata": {},
   "outputs": [],
   "source": [
    "def check_accuracy(loader, model, train=False):\n",
    "    if loader.dataset.train and train == True:\n",
    "        print('Checking accuracy on training set')\n",
    "    elif loader.dataset.train:\n",
    "        print('Checking accuracy on validation set')\n",
    "    else:\n",
    "        print('Checking accuracy on test set')   \n",
    "    num_correct = 0\n",
    "    num_samples = 0\n",
    "    model.eval()  # set model to evaluation mode\n",
    "    with torch.no_grad():\n",
    "        for x, y in loader:\n",
    "            x = x.to(device=device, dtype=dtype)  # move to device, e.g. GPU\n",
    "            x.unsqueeze_(1)\n",
    "            y = y.to(device=device, dtype=torch.long)\n",
    "            scores = model(x)\n",
    "            _, preds = scores.max(1)\n",
    "            num_correct += (preds == y).sum()\n",
    "            num_samples += preds.size(0)\n",
    "        acc = float(num_correct) / num_samples\n",
    "        print('Got %d / %d correct (%.2f)' % (num_correct, num_samples, 100 * acc))"
   ]
  },
  {
   "cell_type": "code",
   "execution_count": 14,
   "metadata": {},
   "outputs": [],
   "source": [
    "def train(model, optimizer, epochs=1, overfit=False):\n",
    "    \"\"\"\n",
    "    Inputs:\n",
    "    - model: A PyTorch Module giving the model to train.\n",
    "    - optimizer: An Optimizer object we will use to train the model\n",
    "    - epochs: (Optional) A Python integer giving the number of epochs to train for\n",
    "    \n",
    "    Returns: Nothing, but prints model accuracies during training.\n",
    "    \"\"\"\n",
    "    model = model.to(device=device)  # move the model parameters to CPU/GPU\n",
    "    for e in range(epochs):\n",
    "        for t, (x, y) in enumerate(loader_train):\n",
    "            model.train()  # put model to training mode\n",
    "            x = x.to(device=device, dtype=dtype)  # move to device, e.g. GPU\n",
    "            y = y.to(device=device, dtype=torch.long)\n",
    "            \n",
    "            x.unsqueeze_(1)\n",
    "            scores = model(x)\n",
    "            loss = F.cross_entropy(scores, y)\n",
    "\n",
    "            # Zero out all of the gradients for the variables which the optimizer\n",
    "            # will update.\n",
    "            optimizer.zero_grad()\n",
    "\n",
    "            # This is the backwards pass: compute the gradient of the loss with\n",
    "            # respect to each  parameter of the model.\n",
    "            loss.backward()\n",
    "\n",
    "            # Actually update the parameters of the model using the gradients\n",
    "            # computed by the backwards pass.\n",
    "            optimizer.step()\n",
    "            \n",
    "            if t % print_every == 0:\n",
    "                print('Iteration %d, loss = %.4f' % (t, loss.item()))\n",
    "                if(overfit):\n",
    "                    check_accuracy(loader_train, model, train=True)\n",
    "                check_accuracy(loader_val, model)\n",
    "                print()"
   ]
  },
  {
   "cell_type": "code",
   "execution_count": null,
   "metadata": {},
   "outputs": [
    {
     "name": "stdout",
     "output_type": "stream",
     "text": [
      "Iteration 0, loss = 1.1678\n",
      "Checking accuracy on training set\n",
      "Got 634 / 1500 correct (42.27)\n",
      "Checking accuracy on validation set\n",
      "Got 301 / 482 correct (62.45)\n",
      "\n",
      "Iteration 0, loss = 0.5761\n",
      "Checking accuracy on training set\n",
      "Got 1208 / 1500 correct (80.53)\n",
      "Checking accuracy on validation set\n",
      "Got 268 / 482 correct (55.60)\n",
      "\n",
      "Iteration 0, loss = 0.3937\n",
      "Checking accuracy on training set\n",
      "Got 1252 / 1500 correct (83.47)\n",
      "Checking accuracy on validation set\n",
      "Got 253 / 482 correct (52.49)\n",
      "\n",
      "Iteration 0, loss = 0.3184\n",
      "Checking accuracy on training set\n",
      "Got 1366 / 1500 correct (91.07)\n",
      "Checking accuracy on validation set\n",
      "Got 251 / 482 correct (52.07)\n",
      "\n",
      "Iteration 0, loss = 0.0989\n",
      "Checking accuracy on training set\n",
      "Got 1387 / 1500 correct (92.47)\n",
      "Checking accuracy on validation set\n",
      "Got 272 / 482 correct (56.43)\n",
      "\n",
      "Iteration 0, loss = 0.1672\n",
      "Checking accuracy on training set\n",
      "Got 1411 / 1500 correct (94.07)\n",
      "Checking accuracy on validation set\n",
      "Got 248 / 482 correct (51.45)\n",
      "\n",
      "Iteration 0, loss = 0.1728\n",
      "Checking accuracy on training set\n",
      "Got 1407 / 1500 correct (93.80)\n",
      "Checking accuracy on validation set\n",
      "Got 263 / 482 correct (54.56)\n",
      "\n",
      "Iteration 0, loss = 0.0997\n",
      "Checking accuracy on training set\n",
      "Got 1441 / 1500 correct (96.07)\n",
      "Checking accuracy on validation set\n",
      "Got 258 / 482 correct (53.53)\n",
      "\n"
     ]
    }
   ],
   "source": [
    "model1 = get_model()\n",
    "optimizer = optim.Adam(model1.parameters(), lr = 0.0001)\n",
    "train(model1, optimizer, epochs=10, overfit=True)"
   ]
  },
  {
   "cell_type": "code",
   "execution_count": 17,
   "metadata": {},
   "outputs": [],
   "source": [
    "best_model = model"
   ]
  },
  {
   "cell_type": "code",
   "execution_count": 11,
   "metadata": {
    "scrolled": true
   },
   "outputs": [
    {
     "name": "stdout",
     "output_type": "stream",
     "text": [
      "Iteration 0, loss = 1.1195\n",
      "Checking accuracy on training set\n",
      "Got 520 / 1500 correct (34.67)\n",
      "Checking accuracy on validation set\n",
      "Got 248 / 482 correct (51.45)\n",
      "\n",
      "Iteration 0, loss = 0.7336\n",
      "Checking accuracy on training set\n",
      "Got 1120 / 1500 correct (74.67)\n",
      "Checking accuracy on validation set\n",
      "Got 240 / 482 correct (49.79)\n",
      "\n",
      "Iteration 0, loss = 0.3912\n",
      "Checking accuracy on training set\n",
      "Got 1272 / 1500 correct (84.80)\n",
      "Checking accuracy on validation set\n",
      "Got 250 / 482 correct (51.87)\n",
      "\n",
      "Iteration 0, loss = 0.6592\n",
      "Checking accuracy on training set\n",
      "Got 1321 / 1500 correct (88.07)\n",
      "Checking accuracy on validation set\n",
      "Got 294 / 482 correct (61.00)\n",
      "\n",
      "Iteration 0, loss = 0.1504\n",
      "Checking accuracy on training set\n",
      "Got 1398 / 1500 correct (93.20)\n",
      "Checking accuracy on validation set\n",
      "Got 265 / 482 correct (54.98)\n",
      "\n",
      "Iteration 0, loss = 0.2289\n",
      "Checking accuracy on training set\n",
      "Got 1390 / 1500 correct (92.67)\n",
      "Checking accuracy on validation set\n",
      "Got 263 / 482 correct (54.56)\n",
      "\n",
      "Iteration 0, loss = 0.2539\n",
      "Checking accuracy on training set\n",
      "Got 1420 / 1500 correct (94.67)\n",
      "Checking accuracy on validation set\n",
      "Got 284 / 482 correct (58.92)\n",
      "\n",
      "Iteration 0, loss = 0.0592\n",
      "Checking accuracy on training set\n",
      "Got 1427 / 1500 correct (95.13)\n",
      "Checking accuracy on validation set\n",
      "Got 291 / 482 correct (60.37)\n",
      "\n",
      "Iteration 0, loss = 0.2558\n",
      "Checking accuracy on training set\n",
      "Got 1413 / 1500 correct (94.20)\n",
      "Checking accuracy on validation set\n",
      "Got 268 / 482 correct (55.60)\n",
      "\n",
      "Iteration 0, loss = 0.1074\n",
      "Checking accuracy on training set\n",
      "Got 1440 / 1500 correct (96.00)\n",
      "Checking accuracy on validation set\n",
      "Got 273 / 482 correct (56.64)\n",
      "\n"
     ]
    }
   ],
   "source": [
    "model = get_model()\n",
    "# optimizer = optim.Adam(filter(lambda p: p.requires_grad, model.parameters()), lr = 0.001)\n",
    "optimizer = optim.Adam(model.parameters(), lr = 0.0001)\n",
    "train(model, optimizer, epochs=10, overfit=True)"
   ]
  },
  {
   "cell_type": "code",
   "execution_count": 10,
   "metadata": {},
   "outputs": [
    {
     "name": "stdout",
     "output_type": "stream",
     "text": [
      "Checking accuracy on validation set\n",
      "Got 249 / 482 correct (51.66)\n"
     ]
    }
   ],
   "source": [
    "#Check validation set\n",
    "check_accuracy(loader_val, model)"
   ]
  },
  {
   "cell_type": "code",
   "execution_count": null,
   "metadata": {},
   "outputs": [],
   "source": [
    "# from sklearn.model_selection import KFold\n",
    "# from sklearn import metrics\n",
    "\n",
    "# # for epoch in range(5):\n",
    "# kf = KFold(n_splits=3, shuffle = True)\n",
    "# accuracies=[]\n",
    "# for train_index, test_index in kf.split(x):\n",
    "#     accuracies=[]\n",
    "# #     (N, C1, C2, S) = x.shape \n",
    "# #     x = x.reshape((N, 62, 512, 512))\n",
    "# #     y = y.reshape((y.shape[0]))\n",
    "# #     print(x.shape)\n",
    "# #     print(y.shape)\n",
    "# #     print(train_index)\n",
    "# #     print(test_index)\n",
    "#     xk_train, xk_test = x[train_index], x[test_index]\n",
    "#     yk_train, yk_test = y[train_index], y[test_index]\n",
    "#     net.fit(xk_train,yk_train)\n",
    "#     y_pred = net.predict(xk_test)\n",
    "#     acc = metrics.accuracy_score(yk_test, y_pred)\n",
    "#     accuracies.append(acc)\n",
    "#     print('FinalAccuracy %.4f' % (np.mean(accuracies)))"
   ]
  },
  {
   "cell_type": "code",
   "execution_count": 11,
   "metadata": {},
   "outputs": [
    {
     "name": "stdout",
     "output_type": "stream",
     "text": [
      "Checking accuracy on test set\n",
      "Got 121 / 375 correct (32.27)\n"
     ]
    }
   ],
   "source": [
    "#Check Test set\n",
    "check_accuracy(loader_test, model)"
   ]
  }
 ],
 "metadata": {
  "kernelspec": {
   "display_name": "Python 3",
   "language": "python",
   "name": "python3"
  },
  "language_info": {
   "codemirror_mode": {
    "name": "ipython",
    "version": 3
   },
   "file_extension": ".py",
   "mimetype": "text/x-python",
   "name": "python",
   "nbconvert_exporter": "python",
   "pygments_lexer": "ipython3",
   "version": "3.6.4"
  }
 },
 "nbformat": 4,
 "nbformat_minor": 2
}
