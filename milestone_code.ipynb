{
 "cells": [
  {
   "cell_type": "code",
   "execution_count": 1,
   "metadata": {},
   "outputs": [],
   "source": [
    "import torch\n",
    "import torch.nn as nn\n",
    "import torch.nn.functional as F\n",
    "import torch.optim as optim\n",
    "from torch.utils.data import DataLoader\n",
    "from torch.utils.data import sampler\n",
    "from tqdm import tnrange, tqdm_notebook, tqdm\n",
    "\n",
    "import skorch\n",
    "import torchvision.datasets as dset\n",
    "import torchvision.transforms as T\n",
    "import torchvision.models as models\n",
    "\n",
    "from sklearn.model_selection import train_test_split\n",
    "from sklearn.model_selection import cross_val_score\n",
    "from sklearn.model_selection import cross_validate\n",
    "\n",
    "import numpy as np\n",
    "import matplotlib\n",
    "# matplotlib.use('agg')\n",
    "import matplotlib.pyplot as plt\n",
    "from Lung_dataset import ILDDataset"
   ]
  },
  {
   "cell_type": "code",
   "execution_count": 2,
   "metadata": {},
   "outputs": [
    {
     "name": "stdout",
     "output_type": "stream",
     "text": [
      "using device: cpu\n"
     ]
    }
   ],
   "source": [
    "USE_GPU = True\n",
    "\n",
    "dtype = torch.float32 # we will be using float throughout this tutorial\n",
    "\n",
    "if USE_GPU and torch.cuda.is_available():\n",
    "    device = torch.device('cuda')\n",
    "else:\n",
    "    device = torch.device('cpu')\n",
    "\n",
    "# Constant to control how frequently we print train loss\n",
    "print_every = 100\n",
    "\n",
    "print('using device:', device)"
   ]
  },
  {
   "cell_type": "code",
   "execution_count": 13,
   "metadata": {},
   "outputs": [],
   "source": [
    "NUM_TOTAL = 1968\n",
    "NUM_TRAIN = 1783\n",
    "\n",
    "#add path as absolute path for root dir\n",
    "\n",
    "im_size = 128\n",
    "\n",
    "lung_dataset_train = ILDDataset(csv_file='/Users/magdy/Desktop/Stanford Spring/BMI260/Project/Data/Clean_train_test_dataset/Dataset/train_labels.csv',\n",
    "                          root_dir='/Users/magdy/Desktop/Stanford Spring/BMI260/Project/Data/Clean_train_test_dataset/Dataset/train',\n",
    "                          mask=True, HU=True, resize=128)\n",
    "\n",
    "#add path as absolute path for root dir\n",
    "lung_dataset_test = ILDDataset(csv_file='/Users/magdy/Desktop/Stanford Spring/BMI260/Project/Data/Clean_train_test_dataset/Dataset/test_labels.csv',\n",
    "                          root_dir='/Users/magdy/Desktop/Stanford Spring/BMI260/Project/Data/Clean_train_test_dataset/Dataset/test',\n",
    "                          mask=True, HU=True, resize=128)\n",
    "\n",
    "weight0= 1/35\n",
    "weight1= 1/18\n",
    "weight2= 1/47\n",
    "\n",
    "weights = []\n",
    "for i in tnrange(1783):\n",
    "    sample = lung_dataset_train[i]\n",
    "    if sample[1] == 0:\n",
    "        weights.append(weight0)\n",
    "        \n",
    "    elif sample[1] == 1:\n",
    "        weights.append(weight1)\n",
    "    else:\n",
    "        weights.append(weight2)\n",
    "\n",
    "sampler = sampler.WeightedRandomSampler(torch.cuda.DoubleTensor(weights), len(weights) )\n"
   ]
  },
  {
   "cell_type": "code",
   "execution_count": 14,
   "metadata": {},
   "outputs": [
    {
     "data": {
      "image/png": "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\n",
      "text/plain": [
       "<matplotlib.figure.Figure at 0x11fe456a0>"
      ]
     },
     "metadata": {},
     "output_type": "display_data"
    },
    {
     "name": "stdout",
     "output_type": "stream",
     "text": [
      "label: 2\n"
     ]
    }
   ],
   "source": [
    "#show datasample\n",
    "sample = lung_dataset_train[12]\n",
    "plt.imshow(sample[0], cmap='gray')\n",
    "plt.show()\n",
    "print(\"label: \" + str(sample[1]))"
   ]
  },
  {
   "cell_type": "code",
   "execution_count": 15,
   "metadata": {},
   "outputs": [],
   "source": [
    "def flatten(x):\n",
    "    N = x.shape[0] # read in N, C, H, W\n",
    "    return x.view(N, -1)  # \"flatten\" the C * H * W values into a single vector per image\n",
    "\n",
    "class Flatten(nn.Module):\n",
    "    def forward(self, x):\n",
    "        return flatten(x)\n"
   ]
  },
  {
   "cell_type": "code",
   "execution_count": 16,
   "metadata": {},
   "outputs": [],
   "source": [
    "def get_model(freeze=False):\n",
    "    \"\"\"\n",
    "    Used to fetch model for classification\n",
    "    \"\"\"\n",
    "\n",
    "    num_classes = 3\n",
    "\n",
    "    model = models.resnet50(pretrained=True)\n",
    "    model.avgpool = nn.AvgPool2d(1, stride=1)\n",
    "    model.conv1 = nn.Conv2d(1, 64, kernel_size=7, stride=2, padding=1, bias=False)\n",
    "    if(freeze==True):\n",
    "        for param in model.parameters():\n",
    "            param.requires_grad = False\n",
    "    model.fc = nn.Linear(32768, num_classes)\n",
    "    \n",
    "    return model\n",
    "    "
   ]
  },
  {
   "cell_type": "code",
   "execution_count": 17,
   "metadata": {},
   "outputs": [],
   "source": [
    "def check_accuracy(loader, model, train=False, val = False):\n",
    "    predictedStore = []\n",
    "    solutionStore = []\n",
    "    if loader.dataset.train and train == True:\n",
    "        print('Checking accuracy on training set')\n",
    "    elif val:\n",
    "        print('Checking accuracy on validation set')\n",
    "    else:\n",
    "        print('Checking accuracy on test set')   \n",
    "    num_correct = 0\n",
    "    num_samples = 0\n",
    "    model.eval()  # set model to evaluation mode\n",
    "    with torch.no_grad():\n",
    "        for x, y in loader:\n",
    "            x = x.to(device=device, dtype=dtype)  # move to device, e.g. GPU\n",
    "            x.unsqueeze_(1)\n",
    "            y = y.to(device=device, dtype=torch.long)\n",
    "            scores = model(x)\n",
    "            _, preds = scores.max(1)\n",
    "            predictedStore.append(preds.view(-1,).cpu().numpy().tolist())\n",
    "            solutionStore.append(y.data.view(-1,).cpu().numpy().tolist())\n",
    "            \n",
    "            num_correct += (preds == y).sum()\n",
    "            num_samples += preds.size(0)\n",
    "        acc = float(num_correct) / num_samples      \n",
    "        print('Got %d / %d correct (%.2f)' % (num_correct, num_samples, 100 * acc))\n",
    "        \n",
    "    return acc,predictedStore,solutionStore\n",
    " "
   ]
  },
  {
   "cell_type": "code",
   "metadata": {},
   "outputs": [],
    "    - epochs: (Optional) A Python integer giving the number of epochs to train for\n",
    "    \n",
    "    Returns: Nothing, but prints model accuracies during training.\n",
    "    \"\"\"\n",
    "    model = model.to(device=device)  # move the model parameters to CPU/GPU\n",
    "    best_acc = 0;\n",
    "    for e in range(epochs):\n",
    "        for t, (x, y) in enumerate(loader_train):\n",
    "            model.train()  # put model to training mode\n",
    "            x = x.to(device=device, dtype=dtype)  # move to device, e.g. GPU\n",
    "            y = y.to(device=device, dtype=torch.long)\n",
    "            \n",
    "            \n",
    "            #38,16,46\n",
    "            weights = torch.tensor([1,1, 1], device= device, dtype=dtype)\n",
    "            x.unsqueeze_(1)\n",
    "            scores = model(x)\n",
    "            Loss = nn.CrossEntropyLoss(weight = weights)\n",
    "            loss = Loss(scores, y)\n",
    "            \n",
    "            \n",
    "            reg = torch.tensor(0.0001, device= device, dtype=dtype)\n",
    "            l2_reg = torch.tensor(0. , device= device, dtype=dtype)\n",
    "            for param in model.parameters():\n",
    "                l2_reg += torch.norm(param)\n",
    "            loss += reg * l2_reg\n",
    "\n",
    "            # Zero out all of the gradients for the variables which the optimizer\n",
    "            # will update.\n",
    "            optimizer.zero_grad()\n",
    "\n",
    "            # This is the backwards pass: compute the gradient of the loss with\n",
    "            # respect to each  parameter of the model.\n",
    "            loss.backward()\n",
    "\n",
    "            # Actually update the parameters of the model using the gradients\n",
    "            # computed by the backwards pass.\n",
    "            optimizer.step()\n",
    "            \n",
    "        print('Iteration %d, loss = %.4f' % (t, loss.item()))\n",
    "        if(overfit):\n",
    "            _,predictedStoreTrain,solutionStoreTrain = check_accuracy(loader_train, model, train=True)\n",
    "        acc,predictedStoreVal,solutionStoreVal = check_accuracy(loader_val, model, val = True)\n",
    "        if acc > best_acc:\n",
    "            best_acc = acc\n",
    "            best_model = model\n",
    "            predStoreTrain = predictedStoreTrain\n",
    "            solStoreTrain = solutionStoreTrain\n",
    "            predStoreVal = predictedStoreVal\n",
    "            solStoreVal = solutionStoreVal\n",
    "        print()\n",
    "    return best_model,predStoreTrain,solStoreTrain,predStoreVal,solStoreVal"
   ]
  },
  {
   "cell_type": "code",
   "execution_count": null,
   "metadata": {},
   "outputs": [
    {
     "name": "stdout",
     "output_type": "stream",
     "text": [
      "Iteration 0, loss = 9.4315\n",
      "Checking accuracy on test set\n",
      "Got 641 / 1500 correct (42.73)\n",
      "Checking accuracy on test set\n",
      "Got 311 / 482 correct (64.52)\n",
      "\n",
      "Iteration 0, loss = 8.7697\n",
      "Checking accuracy on test set\n",
      "Got 1150 / 1500 correct (76.67)\n",
      "Checking accuracy on test set\n",
      "Got 201 / 482 correct (41.70)\n",
      "\n",
      "Iteration 0, loss = 8.4266\n",
      "Checking accuracy on test set\n",
      "Got 1338 / 1500 correct (89.20)\n",
      "Checking accuracy on test set\n",
      "Got 326 / 482 correct (67.63)\n",
      "\n",
      "Iteration 0, loss = 8.2821\n",
      "Checking accuracy on test set\n",
      "Got 1415 / 1500 correct (94.33)\n",
      "Checking accuracy on test set\n",
      "Got 278 / 482 correct (57.68)\n",
      "\n",
      "Iteration 0, loss = 8.3116\n",
      "Checking accuracy on test set\n",
      "Got 1226 / 1500 correct (81.73)\n",
      "Checking accuracy on test set\n",
      "Got 284 / 482 correct (58.92)\n",
      "\n"
     ]
    }
   ],
   "source": [
    "model1 = get_model()\n",
    "optimizer = optim.Adam(model1.parameters(), lr=0.001)\n",
    "best_model,predStoreTrain,solStoreTrain,predStoreVal,solStoreVal = train(model1, optimizer, epochs= 5, overfit=True)"
   ]
  },
  {
   "cell_type": "code",
   "execution_count": 11,
   "metadata": {},
   "outputs": [
    {
     "name": "stdout",
     "output_type": "stream",
     "text": [
      "Checking accuracy on test set\n"
     ]
    },
    {
     "ename": "TypeError",
     "evalue": "'numpy.float64' object cannot be interpreted as an integer",
     "output_type": "error",
     "traceback": [
      "\u001b[1;31m---------------------------------------------------------------------------\u001b[0m",
      "\u001b[1;31mTypeError\u001b[0m                                 Traceback (most recent call last)",
      "\u001b[1;32m<ipython-input-11-1996fbd9db36>\u001b[0m in \u001b[0;36m<module>\u001b[1;34m()\u001b[0m\n\u001b[0;32m      1\u001b[0m \u001b[1;31m#Check Test set\u001b[0m\u001b[1;33m\u001b[0m\u001b[1;33m\u001b[0m\u001b[0m\n\u001b[1;32m----> 2\u001b[1;33m \u001b[0macc\u001b[0m\u001b[1;33m,\u001b[0m\u001b[0mpredStoreTest\u001b[0m\u001b[1;33m,\u001b[0m\u001b[0msolStoreTest\u001b[0m \u001b[1;33m=\u001b[0m \u001b[0mcheck_accuracy\u001b[0m\u001b[1;33m(\u001b[0m\u001b[0mloader_test\u001b[0m\u001b[1;33m,\u001b[0m \u001b[0mbest_model\u001b[0m\u001b[1;33m)\u001b[0m\u001b[1;33m\u001b[0m\u001b[0m\n\u001b[0m",
      "\u001b[1;32m<ipython-input-8-cc91e5da7b76>\u001b[0m in \u001b[0;36mcheck_accuracy\u001b[1;34m(loader, model, train, val)\u001b[0m\n\u001b[0;32m     12\u001b[0m     \u001b[0mmodel\u001b[0m\u001b[1;33m.\u001b[0m\u001b[0meval\u001b[0m\u001b[1;33m(\u001b[0m\u001b[1;33m)\u001b[0m  \u001b[1;31m# set model to evaluation mode\u001b[0m\u001b[1;33m\u001b[0m\u001b[0m\n\u001b[0;32m     13\u001b[0m     \u001b[1;32mwith\u001b[0m \u001b[0mtorch\u001b[0m\u001b[1;33m.\u001b[0m\u001b[0mno_grad\u001b[0m\u001b[1;33m(\u001b[0m\u001b[1;33m)\u001b[0m\u001b[1;33m:\u001b[0m\u001b[1;33m\u001b[0m\u001b[0m\n\u001b[1;32m---> 14\u001b[1;33m         \u001b[1;32mfor\u001b[0m \u001b[0mx\u001b[0m\u001b[1;33m,\u001b[0m \u001b[0my\u001b[0m \u001b[1;32min\u001b[0m \u001b[0mloader\u001b[0m\u001b[1;33m:\u001b[0m\u001b[1;33m\u001b[0m\u001b[0m\n\u001b[0m\u001b[0;32m     15\u001b[0m             \u001b[0mx\u001b[0m \u001b[1;33m=\u001b[0m \u001b[0mx\u001b[0m\u001b[1;33m.\u001b[0m\u001b[0mto\u001b[0m\u001b[1;33m(\u001b[0m\u001b[0mdevice\u001b[0m\u001b[1;33m=\u001b[0m\u001b[0mdevice\u001b[0m\u001b[1;33m,\u001b[0m \u001b[0mdtype\u001b[0m\u001b[1;33m=\u001b[0m\u001b[0mdtype\u001b[0m\u001b[1;33m)\u001b[0m  \u001b[1;31m# move to device, e.g. GPU\u001b[0m\u001b[1;33m\u001b[0m\u001b[0m\n\u001b[0;32m     16\u001b[0m             \u001b[0mx\u001b[0m\u001b[1;33m.\u001b[0m\u001b[0munsqueeze_\u001b[0m\u001b[1;33m(\u001b[0m\u001b[1;36m1\u001b[0m\u001b[1;33m)\u001b[0m\u001b[1;33m\u001b[0m\u001b[0m\n",
      "\u001b[1;32m~\\Anaconda3\\lib\\site-packages\\torch\\utils\\data\\dataloader.py\u001b[0m in \u001b[0;36m__next__\u001b[1;34m(self)\u001b[0m\n\u001b[0;32m    261\u001b[0m     \u001b[1;32mdef\u001b[0m \u001b[0m__next__\u001b[0m\u001b[1;33m(\u001b[0m\u001b[0mself\u001b[0m\u001b[1;33m)\u001b[0m\u001b[1;33m:\u001b[0m\u001b[1;33m\u001b[0m\u001b[0m\n\u001b[0;32m    262\u001b[0m         \u001b[1;32mif\u001b[0m \u001b[0mself\u001b[0m\u001b[1;33m.\u001b[0m\u001b[0mnum_workers\u001b[0m \u001b[1;33m==\u001b[0m \u001b[1;36m0\u001b[0m\u001b[1;33m:\u001b[0m  \u001b[1;31m# same-process loading\u001b[0m\u001b[1;33m\u001b[0m\u001b[0m\n\u001b[1;32m--> 263\u001b[1;33m             \u001b[0mindices\u001b[0m \u001b[1;33m=\u001b[0m \u001b[0mnext\u001b[0m\u001b[1;33m(\u001b[0m\u001b[0mself\u001b[0m\u001b[1;33m.\u001b[0m\u001b[0msample_iter\u001b[0m\u001b[1;33m)\u001b[0m  \u001b[1;31m# may raise StopIteration\u001b[0m\u001b[1;33m\u001b[0m\u001b[0m\n\u001b[0m\u001b[0;32m    264\u001b[0m             \u001b[0mbatch\u001b[0m \u001b[1;33m=\u001b[0m \u001b[0mself\u001b[0m\u001b[1;33m.\u001b[0m\u001b[0mcollate_fn\u001b[0m\u001b[1;33m(\u001b[0m\u001b[1;33m[\u001b[0m\u001b[0mself\u001b[0m\u001b[1;33m.\u001b[0m\u001b[0mdataset\u001b[0m\u001b[1;33m[\u001b[0m\u001b[0mi\u001b[0m\u001b[1;33m]\u001b[0m \u001b[1;32mfor\u001b[0m \u001b[0mi\u001b[0m \u001b[1;32min\u001b[0m \u001b[0mindices\u001b[0m\u001b[1;33m]\u001b[0m\u001b[1;33m)\u001b[0m\u001b[1;33m\u001b[0m\u001b[0m\n\u001b[0;32m    265\u001b[0m             \u001b[1;32mif\u001b[0m \u001b[0mself\u001b[0m\u001b[1;33m.\u001b[0m\u001b[0mpin_memory\u001b[0m\u001b[1;33m:\u001b[0m\u001b[1;33m\u001b[0m\u001b[0m\n",
      "\u001b[1;32m~\\Anaconda3\\lib\\site-packages\\torch\\utils\\data\\sampler.py\u001b[0m in \u001b[0;36m__iter__\u001b[1;34m(self)\u001b[0m\n\u001b[0;32m    136\u001b[0m     \u001b[1;32mdef\u001b[0m \u001b[0m__iter__\u001b[0m\u001b[1;33m(\u001b[0m\u001b[0mself\u001b[0m\u001b[1;33m)\u001b[0m\u001b[1;33m:\u001b[0m\u001b[1;33m\u001b[0m\u001b[0m\n\u001b[0;32m    137\u001b[0m         \u001b[0mbatch\u001b[0m \u001b[1;33m=\u001b[0m \u001b[1;33m[\u001b[0m\u001b[1;33m]\u001b[0m\u001b[1;33m\u001b[0m\u001b[0m\n\u001b[1;32m--> 138\u001b[1;33m         \u001b[1;32mfor\u001b[0m \u001b[0midx\u001b[0m \u001b[1;32min\u001b[0m \u001b[0mself\u001b[0m\u001b[1;33m.\u001b[0m\u001b[0msampler\u001b[0m\u001b[1;33m:\u001b[0m\u001b[1;33m\u001b[0m\u001b[0m\n\u001b[0m\u001b[0;32m    139\u001b[0m             \u001b[0mbatch\u001b[0m\u001b[1;33m.\u001b[0m\u001b[0mappend\u001b[0m\u001b[1;33m(\u001b[0m\u001b[0mint\u001b[0m\u001b[1;33m(\u001b[0m\u001b[0midx\u001b[0m\u001b[1;33m)\u001b[0m\u001b[1;33m)\u001b[0m\u001b[1;33m\u001b[0m\u001b[0m\n\u001b[0;32m    140\u001b[0m             \u001b[1;32mif\u001b[0m \u001b[0mlen\u001b[0m\u001b[1;33m(\u001b[0m\u001b[0mbatch\u001b[0m\u001b[1;33m)\u001b[0m \u001b[1;33m==\u001b[0m \u001b[0mself\u001b[0m\u001b[1;33m.\u001b[0m\u001b[0mbatch_size\u001b[0m\u001b[1;33m:\u001b[0m\u001b[1;33m\u001b[0m\u001b[0m\n",
      "\u001b[1;32m~\\Anaconda3\\lib\\site-packages\\torch\\utils\\data\\sampler.py\u001b[0m in \u001b[0;36m__iter__\u001b[1;34m(self)\u001b[0m\n\u001b[0;32m     32\u001b[0m \u001b[1;33m\u001b[0m\u001b[0m\n\u001b[0;32m     33\u001b[0m     \u001b[1;32mdef\u001b[0m \u001b[0m__iter__\u001b[0m\u001b[1;33m(\u001b[0m\u001b[0mself\u001b[0m\u001b[1;33m)\u001b[0m\u001b[1;33m:\u001b[0m\u001b[1;33m\u001b[0m\u001b[0m\n\u001b[1;32m---> 34\u001b[1;33m         \u001b[1;32mreturn\u001b[0m \u001b[0miter\u001b[0m\u001b[1;33m(\u001b[0m\u001b[0mrange\u001b[0m\u001b[1;33m(\u001b[0m\u001b[0mlen\u001b[0m\u001b[1;33m(\u001b[0m\u001b[0mself\u001b[0m\u001b[1;33m.\u001b[0m\u001b[0mdata_source\u001b[0m\u001b[1;33m)\u001b[0m\u001b[1;33m)\u001b[0m\u001b[1;33m)\u001b[0m\u001b[1;33m\u001b[0m\u001b[0m\n\u001b[0m\u001b[0;32m     35\u001b[0m \u001b[1;33m\u001b[0m\u001b[0m\n\u001b[0;32m     36\u001b[0m     \u001b[1;32mdef\u001b[0m \u001b[0m__len__\u001b[0m\u001b[1;33m(\u001b[0m\u001b[0mself\u001b[0m\u001b[1;33m)\u001b[0m\u001b[1;33m:\u001b[0m\u001b[1;33m\u001b[0m\u001b[0m\n",
      "\u001b[1;31mTypeError\u001b[0m: 'numpy.float64' object cannot be interpreted as an integer"
     ]
    }
   ],
   "source": [
    "#Check Test set\n",
    "acc,predStoreTest,solStoreTest = check_accuracy(loader_test, best_model)"
   ]
  },
  {
   "cell_type": "code",
   "execution_count": 16,
   "metadata": {},
   "outputs": [
    {
     "name": "stdout",
     "output_type": "stream",
     "text": [
      "Confusion matrix, without normalization\n",
      "[[ 91   0 671]\n",
      " [ 14   9 342]\n",
      " [ 63   0 593]]\n",
      "Confusion matrix, without normalization\n",
      "[[ 0  0 48]\n",
      " [ 7  0 42]\n",
      " [ 0  0 93]]\n"
     ]
    },
    {
     "data": {
      "image/png": "iVBORw0KGgoAAAANSUhEUgAAAUsAAAEmCAYAAADr3bIaAAAABHNCSVQICAgIfAhkiAAAAAlwSFlz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\n",
      "text/plain": [
       "<matplotlib.figure.Figure at 0x1e52b8f9a20>"
      ]
     },
     "metadata": {},
     "output_type": "display_data"
    },
    {
     "data": {
      "image/png": "iVBORw0KGgoAAAANSUhEUgAAAUUAAAEmCAYAAAD1FIKpAAAABHNCSVQICAgIfAhkiAAAAAlwSFlz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\nAAAASUVORK5CYII=\n",
      "text/plain": [
       "<matplotlib.figure.Figure at 0x1e52b8f9f98>"
      ]
     },
     "metadata": {},
     "output_type": "display_data"
    },
    {
     "data": {
      "text/plain": [
       "<matplotlib.figure.Figure at 0x1e539bae128>"
      ]
     },
     "metadata": {},
     "output_type": "display_data"
    }
   ],
   "source": [
    "import itertools\n",
    "import matplotlib.pyplot as plt\n",
    "\n",
    "from sklearn import svm, datasets\n",
    "from sklearn.model_selection import train_test_split\n",
    "from sklearn.metrics import confusion_matrix\n",
    "\n",
    "def plot_confusion_matrix(cm, classes,\n",
    "                          normalize=False,\n",
    "                          title='Confusion matrix',\n",
    "                          cmap=plt.cm.Blues):\n",
    "    \"\"\"\n",
    "    This function prints and plots the confusion matrix.\n",
    "    Normalization can be applied by setting `normalize=True`.\n",
    "    \"\"\"\n",
    "    if normalize:\n",
    "        cm = cm.astype('float') / cm.sum(axis=1)[:, np.newaxis]\n",
    "        print(\"Normalized confusion matrix\")\n",
    "    else:\n",
    "        print('Confusion matrix, without normalization')\n",
    "\n",
    "    print(cm)\n",
    "\n",
    "    plt.imshow(cm, interpolation='nearest', cmap=cmap)\n",
    "    plt.title(title)\n",
    "    plt.colorbar()\n",
    "    tick_marks = np.arange(len(classes))\n",
    "    plt.xticks(tick_marks, classes, rotation=45)\n",
    "    plt.yticks(tick_marks, classes)\n",
    "\n",
    "    fmt = '.2f' if normalize else 'd'\n",
    "    thresh = cm.max() / 2.\n",
    "    for i, j in itertools.product(range(cm.shape[0]), range(cm.shape[1])):\n",
    "        plt.text(j, i, format(cm[i, j], fmt),\n",
    "                 horizontalalignment=\"center\",\n",
    "                 color=\"white\" if cm[i, j] > thresh else \"black\")\n",
    "\n",
    "    plt.tight_layout()\n",
    "    plt.ylabel('True label')\n",
    "    plt.xlabel('Predicted label')\n",
    "\n",
    "    \n",
    "    \n",
    "##Actual Plots\n",
    "\n",
    "y_pred_train = np.concatenate([np.array(i) for i in predStoreTrain])\n",
    "y_train = np.concatenate([np.array(i) for i in solStoreTrain])\n",
    "\n",
    "y_pred_val = np.concatenate([np.array(i) for i in predStoreVal]) \n",
    "y_val = np.concatenate([np.array(i) for i in solStoreVal])\n",
    "\n",
    "# y_pred_test = np.concatenate([np.array(i) for i in predStoreTest]) \n",
    "# y_test = np.concatenate([np.array(i) for i in solStoreTest])\n",
    "\n",
    "cnf_matrix1 = confusion_matrix(y_train, y_pred_train)\n",
    "cnf_matrix2 = confusion_matrix( y_val, y_pred_val)\n",
    "# cnf_matrix3 = confusion_matrix(y_test, y_pred_test)\n",
    "\n",
    "\n",
    "\n",
    "class_names = [0,1,2]\n",
    "np.set_printoptions(precision=2)\n",
    "\n",
    "# Plot non-normalized confusion matrix\n",
    "plt.figure()\n",
    "plot_confusion_matrix(cnf_matrix1, classes=class_names,\n",
    "                      title='Normalized confusion matrix - Train')\n",
    "\n",
    "# Plot normalized confusion matrix\n",
    "plt.figure()\n",
    "plot_confusion_matrix(cnf_matrix2, classes=class_names,\n",
    "                      title='Normalized confusion matrix - Val')\n",
    "\n",
    "# Plot normalized confusion matrix\n",
    "plt.figure()\n",
    "# plot_confusion_matrix(cnf_matrix3, classes=class_names, normalize=True,\n",
    "#                       title='Normalized confusion matrix - Test')\n",
    "\n",
    "plt.show()\n"
   ]
  },
  {
   "cell_type": "markdown",
   "metadata": {
    "collapsed": true
   },
   "source": [
    "#### "
   ]
  }
 ],
 "metadata": {
  "kernelspec": {
   "display_name": "Python 3",
   "language": "python",
   "name": "python3"
  },
  "language_info": {
   "codemirror_mode": {
    "name": "ipython",
    "version": 3
   },
   "file_extension": ".py",
   "mimetype": "text/x-python",
   "name": "python",
   "nbconvert_exporter": "python",
   "pygments_lexer": "ipython3",
   "version": "3.6.1"
  }
 },
 "nbformat": 4,
 "nbformat_minor": 2
}
